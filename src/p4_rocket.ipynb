{
 "cells": [
  {
   "cell_type": "markdown",
   "id": "457496e8-f051-491a-a922-e11d4684223d",
   "metadata": {},
   "source": [
    "# SCP Toolbox Workshop\n",
    "\n",
    "___A tutorial on generating dynamically feasible trajectories reliably and efficiently___\n",
    "\n",
    "Monday, February 7, 2022\n",
    "\n",
    "Rocky Mountain AAS GN&C Conference, Breckenridge, CO\n",
    "\n",
    "<h2 style=\"color: black;\">\n",
    "    <span style=\"background-color: #ECBE7B; padding: 1px;\">&ensp;Part 4: Rocket-Landing Guidance&ensp;</span>\n",
    "</h2>"
   ]
  },
  {
   "cell_type": "code",
   "execution_count": 151,
   "id": "b046a02d-fcb1-4dd8-8a9d-28d18c7b3a8a",
   "metadata": {
    "slideshow": {
     "slide_type": "skip"
    },
    "tags": []
   },
   "outputs": [
    {
     "name": "stderr",
     "output_type": "stream",
     "text": [
      "\u001b[32m\u001b[1m  Activating\u001b[22m\u001b[39m project at `~/Downloads/tmp/SCPToolbox_tutorial`\n"
     ]
    }
   ],
   "source": [
    "import Pkg\n",
    "Pkg.activate(\"..\")\n",
    "\n",
    "## these lines are required for local installations\n",
    "# Pkg.develop(path=\"../../SCPToolbox.jl/\")\n",
    "# Pkg.precompile()\n",
    "\n",
    "using SCPToolbox\n",
    "using PyCall, PyPlot, Colors, LinearAlgebra\n",
    "\n",
    "# Import the different possible low-level convex solvers\n",
    "using ECOS\n",
    "# using Ipopt\n",
    "# using SCS\n",
    "# using OSQP"
   ]
  },
  {
   "cell_type": "markdown",
   "id": "407d3e78-d702-4bd4-a356-c9a89de73294",
   "metadata": {},
   "source": [
    "In this part of the tutorial, you will participate in formulating and solving a Lunar rocket landing trajectory optimization problem.\n",
    "\n",
    "The rocket has a 2-dimensional position and a rotation, and a gimbaled rocket engine. The goal is to take the rocket from an airborne state to a soft touchdown on the ground.\n",
    "\n",
    "<center>\n",
    "    <img src=\"media/p4-rocket-landing-overview.png\"\n",
    "         alt=\"rocket-landing\"\n",
    "         style=\"background-color: white; width: 300px; display: block; margin-left: auto; margin-right: auto;\"/>\n",
    "    <br />\n",
    "    <b>Figure.</b> Illustration of the rocket soft landing problem.\n",
    "    <br />\n",
    "    <br />\n",
    "</center>"
   ]
  },
  {
   "cell_type": "markdown",
   "id": "796d89f0-6109-4462-b8a4-831ac1c22fe2",
   "metadata": {},
   "source": [
    "Begin by defining a new `TrajectoryProblem` object."
   ]
  },
  {
   "cell_type": "code",
   "execution_count": 152,
   "id": "29113eda-edec-4a41-b2a0-174df49cdfa4",
   "metadata": {
    "tags": []
   },
   "outputs": [],
   "source": [
    "pbm =TrajectoryProblem(); # Enter your code here"
   ]
  },
  {
   "cell_type": "markdown",
   "id": "08abe850-2560-4f6f-a6e8-001f2a95969b",
   "metadata": {},
   "source": [
    "<details>\n",
    "\n",
    "<summary>Answer</summary>\n",
    "\n",
    "\n",
    "\n",
    "```julia\n",
    "pbm = TrajectoryProblem();\n",
    "```\n",
    "</details>"
   ]
  },
  {
   "cell_type": "markdown",
   "id": "9dbde805-aef6-4c32-9dab-41030d13dedc",
   "metadata": {},
   "source": [
    "## Rocket parameters"
   ]
  },
  {
   "cell_type": "markdown",
   "id": "ce8a7627-73b2-4ce6-892e-b89a213b0072",
   "metadata": {},
   "source": [
    "Any trajectory optimization problem begins by defining the constant parameters of the problem. For example, how much does the rocket weigh? How high up does it start?\n",
    "\n",
    "We define these below."
   ]
  },
  {
   "cell_type": "code",
   "execution_count": 153,
   "id": "c499f9b3-115a-49ee-9ef9-92cd11405f06",
   "metadata": {},
   "outputs": [],
   "source": [
    "# Environment parameters\n",
    "g = 1.625 # [m/s^2] Gravitational acceleration of the planet\n",
    "g_E = 9.807; # [m/s^2] Earth gravity"
   ]
  },
  {
   "cell_type": "code",
   "execution_count": 154,
   "id": "98779c4b-14e7-4857-ad00-0cec06cff308",
   "metadata": {},
   "outputs": [],
   "source": [
    "# Mechanical parameters\n",
    "m_wet = 25e3 # [kg] Initial mass\n",
    "L = 0.5 # [m] Thrust lever arm\n",
    "J = 100e3; # [kg*m^2] Moment of inertia"
   ]
  },
  {
   "cell_type": "code",
   "execution_count": 155,
   "id": "c9f1b1ea-e738-451b-9a1a-d5580adf4e9f",
   "metadata": {},
   "outputs": [],
   "source": [
    "# Propulsion parameters\n",
    "Isp = 370 # [s] Specific impulse\n",
    "T_min = 20e3 # [N] Minimum thrust\n",
    "T_max = 80e3 # [N] Maximum thrust\n",
    "α = 1 / (Isp * g_E) # [kg/s/N] Fuel consumption rate coefficient\n",
    "δ_max = deg2rad(10.0); # [rad] Maximum gimbal angle"
   ]
  },
  {
   "cell_type": "code",
   "execution_count": 156,
   "id": "c94e23ec-fd21-4172-bf7f-9681059dd73a",
   "metadata": {},
   "outputs": [],
   "source": [
    "# Trajectory parameters\n",
    "γ_gs = deg2rad(45.0); # [rad] Glideslope angle (measured from the horizon)"
   ]
  },
  {
   "cell_type": "markdown",
   "id": "7a92f244-c651-4686-b93c-6cbb884e232f",
   "metadata": {},
   "source": [
    "## Rocket dynamics"
   ]
  },
  {
   "cell_type": "markdown",
   "id": "73db0e87-afcc-4263-a424-a1331093adcb",
   "metadata": {},
   "source": [
    "The partial rocket dynamics are given by the following ordinary differential equations:\n",
    "\n",
    "\\begin{align}\n",
    "\\dot x &= v_x, \\\\\n",
    "\\dot y &= \\mathrm{\\color{grey}{TODO}}, \\\\\n",
    "\\dot v_x &= -\\frac{T}{m}\\sin(\\theta+\\delta), \\\\\n",
    "\\dot v_y &= \\mathrm{\\color{grey}{TODO}}, \\\\\n",
    "\\dot \\theta &= \\mathrm{\\color{grey}{TODO}}, \\\\\n",
    "\\dot \\omega &= -\\frac{LT}{J}\\sin(\\delta), \\\\\n",
    "\\dot m &= -\\alpha T.\n",
    "\\end{align}"
   ]
  },
  {
   "cell_type": "markdown",
   "id": "424d35ea-7ed4-451a-8833-52f3420c09f7",
   "metadata": {},
   "source": [
    "<details>\n",
    "\n",
    "<summary>Answer</summary>\n",
    "\n",
    "\\begin{align}\n",
    "    \\dot y &= v_y, \\\\\n",
    "    \\dot v_y &= \\frac{T}{m}\\cos(\\theta+\\delta)-g, \\\\\n",
    "    \\dot \\theta &= \\omega.\n",
    "\\end{align}\n",
    "\n",
    "</details>"
   ]
  },
  {
   "cell_type": "markdown",
   "id": "7ad0df62-a6c4-4729-9d6f-3f94739d6e37",
   "metadata": {},
   "source": [
    "Define the state vector $x\\in\\mathbb R^n$, with the elements in the same order as they appear on the left-hand side of the ordinary differential equations above:\n",
    "\n",
    "$$\n",
    "x = \\begin{bmatrix}\n",
    "\\mathrm{\\color{grey}{TODO}}\n",
    "\\end{bmatrix}.\n",
    "$$"
   ]
  },
  {
   "cell_type": "markdown",
   "id": "c98afd6b-97e3-466f-b5b7-45e0be7984e6",
   "metadata": {},
   "source": [
    "<details>\n",
    "\n",
    "<summary>Answer</summary>\n",
    "\n",
    "$$\n",
    "x = \\begin{bmatrix}\n",
    "x \\\\ y \\\\ v_x \\\\ v_y \\\\ \\theta \\\\ \\omega \\\\ m\n",
    "\\end{bmatrix}\n",
    "$$\n",
    "\n",
    "</details>"
   ]
  },
  {
   "cell_type": "markdown",
   "id": "bb8bee1e-208f-4e6c-ab7b-4828244423b1",
   "metadata": {},
   "source": [
    "Define the input vector $u\\in\\mathbb R^m$, with the thrust coming first:\n",
    "\n",
    "$$\n",
    "u = \\begin{bmatrix}\n",
    "\\mathrm{\\color{grey}{TODO}}\n",
    "\\end{bmatrix}.\n",
    "$$"
   ]
  },
  {
   "cell_type": "markdown",
   "id": "f94f99cb-5d5b-47cd-a454-354d8a7def90",
   "metadata": {},
   "source": [
    "<details>\n",
    "\n",
    "<summary>Answer</summary>\n",
    "\n",
    "$$\n",
    "u = \\begin{bmatrix}\n",
    "T \\\\ \\delta\n",
    "\\end{bmatrix}\n",
    "$$\n",
    "\n",
    "</details>"
   ]
  },
  {
   "cell_type": "markdown",
   "id": "cf2c3e77-27d0-4271-baa3-045f5dbe121d",
   "metadata": {},
   "source": [
    "Complete the function below that evaluates the right-hand side of the dynamics ordinary differential equations above. The function signature is:\n",
    "\n",
    "$$\n",
    "\\dot x = f_{rocket}(x, u),\n",
    "$$\n",
    "\n",
    "where the arguments are the state and input and the output is the state time derivative."
   ]
  },
  {
   "cell_type": "code",
   "execution_count": 157,
   "id": "4473cb08-dcb2-4827-bb51-5ed801d965f8",
   "metadata": {},
   "outputs": [],
   "source": [
    "\n",
    "\n",
    "f_rocket(x, u) = begin\n",
    "    rx, ry, vx, vy, θ, ω, m = x\n",
    "    T, δ = u\n",
    "    # Enter your code here\n",
    "    return [vx; vy; -(T/m)*sin(θ+δ); (T/m)*cos(θ+δ)-g; ω; -(L*T/J)*sin(δ); -α*T]\n",
    "end;\n",
    "\n"
   ]
  },
  {
   "cell_type": "markdown",
   "id": "f08eb7d3-36e4-45bb-8a4d-63e9a9d7d2f6",
   "metadata": {},
   "source": [
    "<details>\n",
    "\n",
    "<summary>Answer</summary>\n",
    "\n",
    "```julia\n",
    "f_rocket(x, u) = begin\n",
    "    rx, ry, vx, vy, θ, ω, m = x\n",
    "    T, δ = u\n",
    "    return [vx; vy; -(T/m)*sin(θ+δ); (T/m)*cos(θ+δ)-g; ω; -(L*T/J)*sin(δ); -α*T]\n",
    "end;\n",
    "```\n",
    "\n",
    "</details>"
   ]
  },
  {
   "cell_type": "markdown",
   "id": "22984af8-9e54-4a80-acd1-42df3ad57a95",
   "metadata": {},
   "source": [
    "Remember from the Dubin's car example that SCP Toolbox operates on a normalized-time problem where time takes values in $[0,1]$.\n",
    "\n",
    "We are going to solve a free-final time rocket landing problem, and this requires us to introduce a one-element parameter vector that holds the time dilation coefficient:\n",
    "\n",
    "$$\n",
    "p = \\begin{bmatrix}\n",
    "t_f\n",
    "\\end{bmatrix}.\n",
    "$$"
   ]
  },
  {
   "cell_type": "markdown",
   "id": "6572d2ce-51f9-4df8-a868-6448df53aff6",
   "metadata": {},
   "source": [
    "The normalized-time dynamics are given by:\n",
    "\n",
    "$$\n",
    "\\dot x = t_f f_{rocket}(x, u) \\equiv f(x, u, p).\n",
    "$$\n",
    "\n",
    "This allows us to write the normalized-time dynamics in Julia as follows."
   ]
  },
  {
   "cell_type": "code",
   "execution_count": 158,
   "id": "bb70e8f5-ffe4-4357-b409-b6cb9b6c31da",
   "metadata": {},
   "outputs": [],
   "source": [
    "f(x, u, p) = begin\n",
    "    tf, = p\n",
    "    f_rocket(x, u)*tf\n",
    "end;"
   ]
  },
  {
   "cell_type": "markdown",
   "id": "7ba856f9-d7d1-408f-81c3-007568de97a4",
   "metadata": {},
   "source": [
    "Based on the above definitions of the state ($x$), the input ($u$), and the parameter ($p$), record their dimensions ($n$, $m$, and $d$, respectively)."
   ]
  },
  {
   "cell_type": "code",
   "execution_count": 159,
   "id": "6567075f-911e-41c7-b137-50c46697ec44",
   "metadata": {},
   "outputs": [
    {
     "data": {
      "text/plain": [
       "1"
      ]
     },
     "metadata": {},
     "output_type": "display_data"
    }
   ],
   "source": [
    "n = 7# Enter your code here\n",
    "m =2 # Enter your code here\n",
    "d = 1# Enter your code here"
   ]
  },
  {
   "cell_type": "markdown",
   "id": "eb4959b3-7047-445f-b3f9-22688f9270ed",
   "metadata": {},
   "source": [
    "<details>\n",
    "\n",
    "<summary>Answer</summary>\n",
    "\n",
    "```julia\n",
    "n = 7\n",
    "m = 2\n",
    "d = 1\n",
    "```\n",
    "\n",
    "</details>"
   ]
  },
  {
   "cell_type": "markdown",
   "id": "e9e8924e-4387-425c-af8a-f730d33deee5",
   "metadata": {},
   "source": [
    "Use the SCP Toolbox API to define the state, input, and parameter dimensions in the problem."
   ]
  },
  {
   "cell_type": "code",
   "execution_count": 160,
   "id": "32b47290-5d23-475c-9050-5e09e39b4058",
   "metadata": {},
   "outputs": [],
   "source": [
    "problem_set_dims!(pbm, n, m, d) # Enter your code here"
   ]
  },
  {
   "cell_type": "markdown",
   "id": "ac4cb108-8d22-4fbe-a0d1-e01cb35100a5",
   "metadata": {},
   "source": [
    "<details>\n",
    "\n",
    "<summary>Answer</summary>\n",
    "\n",
    "```julia\n",
    "problem_set_dims!(pbm, n, m, d)\n",
    "```\n",
    "\n",
    "</details>"
   ]
  },
  {
   "cell_type": "markdown",
   "id": "a7849874-ad56-4c82-ada2-a9a9ef278521",
   "metadata": {},
   "source": [
    "### Jacobians"
   ]
  },
  {
   "cell_type": "markdown",
   "id": "75ccb046-60c5-41f8-bf8a-5b81bc699698",
   "metadata": {},
   "source": [
    "We need to define the Jacobians of the dynamics with respect to the state, input, and parameter vectors.\n",
    "\n",
    "Remember the definition of the Jacobian of a general function $g(z):\\mathbb R^n\\to\\mathbb R^m$:\n",
    "\n",
    "$$\n",
    "\\nabla_z g(z) = \\begin{bmatrix}\n",
    "\\frac{\\partial g(z)}{\\partial z_1} &\n",
    "\\frac{\\partial g(z)}{\\partial z_2} &\n",
    "\\cdots &\n",
    "\\frac{\\partial g(z)}{\\partial z_n}\n",
    "\\end{bmatrix}\\in\\mathbb R^{m\\times n}.\n",
    "$$"
   ]
  },
  {
   "cell_type": "markdown",
   "id": "26263bba-43fe-4d5d-979d-a7010f8c910e",
   "metadata": {},
   "source": [
    "With the above in mind, write down \"in math\" the Jacobian of the dynamics with respect to $x$:\n",
    "\n",
    "$$\n",
    "A(x, u, p) = \\nabla_x f(x, u, p) = \\begin{bmatrix}\n",
    "\\mathrm{\\color{grey}{TODO}}\n",
    "\\end{bmatrix}\\in\\mathbb R^{n\\times n}.\n",
    "$$\n",
    "\n",
    "To help, here is what the column corresponding to the state $x_5\\equiv\\theta$ looks like:\n",
    "\n",
    "$$\n",
    "\\begin{bmatrix}\n",
    "0\\\\0\\\\- \\frac{T t_f \\cos{\\left(\\delta + \\theta \\right)}}{m}\\\\- \\frac{T t_f \\sin{\\left(\\delta + \\theta \\right)}}{m}\\\\0\\\\0\\\\0\\end{bmatrix}.\n",
    "$$"
   ]
  },
  {
   "cell_type": "markdown",
   "id": "0606a1ee-8209-46fc-885e-61c3ecf84864",
   "metadata": {},
   "source": [
    "<details>\n",
    "\n",
    "<summary>Answer</summary>\n",
    "\n",
    "$$\n",
    "A(x, u, p) = \n",
    "\\begin{bmatrix}\n",
    "0 & 0 & t_f & 0 & 0 & 0 & 0\\\\\n",
    "0 & 0 & 0 & t_f & 0 & 0 & 0\\\\\n",
    "0 & 0 & 0 & 0 & - \\frac{T t_f \\cos{\\left(\\delta + \\theta \\right)}}{m} & 0 & \\frac{T t_f \\sin{\\left(\\delta + \\theta \\right)}}{m^{2}}\\\\0 & 0 & 0 & 0 & - \\frac{T t_f \\sin{\\left(\\delta + \\theta \\right)}}{m} & 0 & - \\frac{T t_f \\cos{\\left(\\delta + \\theta \\right)}}{m^{2}}\\\\0 & 0 & 0 & 0 & 0 & t_f & 0\\\\0 & 0 & 0 & 0 & 0 & 0 & 0\\\\0 & 0 & 0 & 0 & 0 & 0 & 0\\end{bmatrix}.\n",
    "$$\n",
    "\n",
    "</details>"
   ]
  },
  {
   "cell_type": "markdown",
   "id": "eb54d88b-bdcf-4a80-b917-9f289befc921",
   "metadata": {},
   "source": [
    "Now implement the function in Julia."
   ]
  },
  {
   "cell_type": "code",
   "execution_count": 161,
   "id": "7f6aaf0e-1a3d-4478-8954-36a2a42b049f",
   "metadata": {},
   "outputs": [],
   "source": [
    "\n",
    "\n",
    "A(x, u, p) = begin\n",
    "    rx, ry, vx, vy, θ, ω, m = x\n",
    "    T, δ = u\n",
    "    tf, = p\n",
    "    # Enter your code here\n",
    "    return [0 0 1 0       0       0       0\n",
    "            0 0 0 1       0       0       0\n",
    "            0 0 0 0 -T/m*cos(θ+δ) 0 T/m^2*sin(θ+δ)\n",
    "            0 0 0 0 -T/m*sin(θ+δ) 0 -T/m^2*cos(θ+δ)\n",
    "            0 0 0 0       0       1       0\n",
    "            0 0 0 0       0       0       0\n",
    "            0 0 0 0       0       0       0]*tf\n",
    "end;\n",
    "\n"
   ]
  },
  {
   "cell_type": "markdown",
   "id": "a7efa037-85fe-4ef1-ac3d-b64c07ca4907",
   "metadata": {},
   "source": [
    "<details>\n",
    "\n",
    "<summary>Answer</summary>\n",
    "\n",
    "```julia\n",
    "A(x, u, p) = begin\n",
    "    rx, ry, vx, vy, θ, ω, m = x\n",
    "    T, δ = u\n",
    "    tf, = p\n",
    "    return [0 0 1 0       0       0       0\n",
    "            0 0 0 1       0       0       0\n",
    "            0 0 0 0 -T/m*cos(θ+δ) 0 T/m^2*sin(θ+δ)\n",
    "            0 0 0 0 -T/m*sin(θ+δ) 0 -T/m^2*cos(θ+δ)\n",
    "            0 0 0 0       0       1       0\n",
    "            0 0 0 0       0       0       0\n",
    "            0 0 0 0       0       0       0]*tf\n",
    "end\n",
    "```\n",
    "\n",
    "</details>"
   ]
  },
  {
   "cell_type": "markdown",
   "id": "6e20350a-1006-4332-8034-645aabca60e6",
   "metadata": {},
   "source": [
    "Similarly, write down the Jacobian with respect to the input, $u$:\n",
    "\n",
    "$$\n",
    "B(x, u, p) = \\nabla_u f(x, u, p) = \\begin{bmatrix}\n",
    "\\mathrm{\\color{grey}{TODO}}\n",
    "\\end{bmatrix}\\in\\mathbb R^{n\\times m}.\n",
    "$$"
   ]
  },
  {
   "cell_type": "markdown",
   "id": "ef9c6ba5-33bf-498f-acca-a2986a150b5d",
   "metadata": {},
   "source": [
    "<details>\n",
    "\n",
    "<summary>Answer</summary>\n",
    "\n",
    "$$\n",
    "B(x, u, p) = \n",
    "\\begin{bmatrix}\n",
    "0 & 0\\\\0 & 0\\\\- \\frac{t_f \\sin{\\left(\\delta + \\theta \\right)}}{m} & - \\frac{T t_f \\cos{\\left(\\delta + \\theta \\right)}}{m}\\\\\\frac{t_f \\cos{\\left(\\delta + \\theta \\right)}}{m} & - \\frac{T t_f \\sin{\\left(\\delta + \\theta \\right)}}{m}\\\\0 & 0\\\\- \\frac{L t_f \\sin{\\left(\\delta \\right)}}{J} & - \\frac{L T t_f \\cos{\\left(\\delta \\right)}}{J}\\\\- \\alpha t_f & 0\n",
    "\\end{bmatrix}.\n",
    "$$\n",
    "\n",
    "</details>"
   ]
  },
  {
   "cell_type": "markdown",
   "id": "bc50cd3c-da50-4041-850e-98120c9ead7b",
   "metadata": {},
   "source": [
    "Now implement the function in Julia."
   ]
  },
  {
   "cell_type": "code",
   "execution_count": 162,
   "id": "b8d2dcbf-70f4-4109-b18c-cbf9c68fc310",
   "metadata": {},
   "outputs": [],
   "source": [
    "\n",
    "\n",
    "B(x, u, p) = begin\n",
    "    rx, ry, vx, vy, θ, ω, m = x\n",
    "    T, δ = u\n",
    "    tf, = p\n",
    "    # Enter your code here\n",
    "    return [     0            0\n",
    "                 0            0\n",
    "            -sin(θ+δ)/m -T/m*cos(θ+δ)\n",
    "             cos(θ+δ)/m -T/m*sin(θ+δ)\n",
    "                 0            0\n",
    "            -L/J*sin(δ) -L*T/J*cos(δ)\n",
    "                -α            0       ]*tf\n",
    "end;\n",
    "\n"
   ]
  },
  {
   "cell_type": "markdown",
   "id": "c83279b2-92cf-480d-9aae-74f4235da07f",
   "metadata": {},
   "source": [
    "<details>\n",
    "\n",
    "<summary>Answer</summary>\n",
    "\n",
    "```julia\n",
    "B(x, u, p) = begin\n",
    "    rx, ry, vx, vy, θ, ω, m = x\n",
    "    T, δ = u\n",
    "    tf, = p\n",
    "    return [     0            0\n",
    "                 0            0\n",
    "            -sin(θ+δ)/m -T/m*cos(θ+δ)\n",
    "             cos(θ+δ)/m -T/m*sin(θ+δ)\n",
    "                 0            0\n",
    "            -L/J*sin(δ) -L*T/J*cos(δ)\n",
    "                -α            0       ]*tf\n",
    "end\n",
    "```\n",
    "\n",
    "</details>"
   ]
  },
  {
   "cell_type": "markdown",
   "id": "07290144-f8dc-435d-b506-13e41eb5581d",
   "metadata": {},
   "source": [
    "Finally, write down the Jacobian with respect to the parameter vector, $p$:\n",
    "\n",
    "$$\n",
    "F(x, u, p) = \\nabla_p f(x, u, p) = \\begin{bmatrix}\n",
    "\\mathrm{\\color{grey}{TODO}}\n",
    "\\end{bmatrix}\\in\\mathbb R^{n\\times d}.\n",
    "$$"
   ]
  },
  {
   "cell_type": "markdown",
   "id": "d87b6cf3-2eef-4035-936e-86bd1fef87c9",
   "metadata": {},
   "source": [
    "<details>\n",
    "\n",
    "<summary>Answer</summary>\n",
    "\n",
    "$$\n",
    "F(x, u, p) = \n",
    "f_{rocket}(x, u).\n",
    "$$\n",
    "\n",
    "</details>"
   ]
  },
  {
   "cell_type": "markdown",
   "id": "1573e480-1e6c-4f8c-a85d-cabcfc630e42",
   "metadata": {},
   "source": [
    "Now implement the function in Julia."
   ]
  },
  {
   "cell_type": "code",
   "execution_count": 163,
   "id": "02ff3cde-31bf-4841-a8d9-2a89f5739880",
   "metadata": {},
   "outputs": [],
   "source": [
    "\n",
    "\n",
    "F(x, u, p) = begin\n",
    "    rx, ry, vx, vy, θ, ω, m = x\n",
    "    T, δ = u\n",
    "    tf, = p\n",
    "    # Enter your code here\n",
    "    return reshape(f(x, u, p)/tf, 7, 1)\n",
    "end;\n",
    "\n"
   ]
  },
  {
   "cell_type": "markdown",
   "id": "684b7ca7-8732-4222-b29b-2fafdd2f7e3f",
   "metadata": {},
   "source": [
    "<details>\n",
    "\n",
    "<summary>Answer</summary>\n",
    "\n",
    "```julia\n",
    "F(x, u, p) = begin\n",
    "    rx, ry, vx, vy, θ, ω, m = x\n",
    "    T, δ = u\n",
    "    tf, = p\n",
    "    return reshape(f(x, u, p)/tf, 7, 1)\n",
    "end;\n",
    "```\n",
    "\n",
    "</details>"
   ]
  },
  {
   "cell_type": "markdown",
   "id": "68d64c9c-4a72-41a8-afbd-b28001dbe102",
   "metadata": {},
   "source": [
    "The SCP Toolbox API also passes other arguments to the dynamics and its Jacobians:\n",
    "* `t`: the time;\n",
    "* `k`: the discrete time index;\n",
    "* `pbm`: the `TrajectoryProblem` object that we defined at the very beginning.\n",
    "\n",
    "We write a simple wrapper to satisfy the API."
   ]
  },
  {
   "cell_type": "code",
   "execution_count": 164,
   "id": "ebb84d52-be11-474f-8a9f-31804307a942",
   "metadata": {},
   "outputs": [
    {
     "data": {
      "text/plain": [
       "#110 (generic function with 1 method)"
      ]
     },
     "metadata": {},
     "output_type": "display_data"
    }
   ],
   "source": [
    "wrap(func) = (t, k, x, u, p, pbm) -> func(x, u, p);\n",
    "f_scp = wrap(f)\n",
    "A_scp = wrap(A)\n",
    "B_scp = wrap(B)\n",
    "F_scp = wrap(F)"
   ]
  },
  {
   "cell_type": "markdown",
   "id": "b6782438-ecf1-431e-be5c-b30d3ee6cf83",
   "metadata": {},
   "source": [
    "Use the above functions `f_scp`, `A_scp`, `B_scp`, `F_scp` in order to define the dynamics using the SCP Toolbox API."
   ]
  },
  {
   "cell_type": "code",
   "execution_count": 165,
   "id": "558209e9-f198-4e99-9d36-750051b5d0cc",
   "metadata": {},
   "outputs": [],
   "source": [
    "problem_set_dynamics!(pbm, f_scp, A_scp, B_scp, F_scp)"
   ]
  },
  {
   "cell_type": "markdown",
   "id": "a4692e85-e87f-46cd-8b94-c2d3c37e5f79",
   "metadata": {},
   "source": [
    "<details>\n",
    "\n",
    "<summary>Answer</summary>\n",
    "\n",
    "```julia\n",
    "problem_set_dynamics!(pbm, f_scp, A_scp, B_scp, F_scp)\n",
    "```\n",
    "\n",
    "</details>"
   ]
  },
  {
   "cell_type": "markdown",
   "id": "9bf80e96-53b6-4d9b-802c-841d0af1ba0c",
   "metadata": {},
   "source": [
    "## Boundary Conditions"
   ]
  },
  {
   "cell_type": "markdown",
   "id": "bcba0ed5-eac4-4863-9968-53c5847d39dd",
   "metadata": {},
   "source": [
    "Let's define the boundary conditions on the state as a fixed \"airborne\" point above the landing site at the start, and a point at the landing state at the end of the trajectory. Because the rocket depletes mass, and we do not know by how much ahead of time, the final mass is left unspecified."
   ]
  },
  {
   "cell_type": "code",
   "execution_count": 166,
   "id": "afc3b0ed-5292-42b9-9e4a-0a182d1b6367",
   "metadata": {},
   "outputs": [],
   "source": [
    "km2m(x) = x*1e3 # Conversion from km to m\n",
    "kph2mps(v) = v/3.6 # Conversion from km/h to m/s\n",
    "\n",
    "# Initial state\n",
    "x_0 = [km2m(0.5)\n",
    "       km2m(1.4)\n",
    "       kph2mps(80)\n",
    "       kph2mps(-100)\n",
    "       deg2rad(-30.0)\n",
    "       deg2rad(0.0)\n",
    "       m_wet]\n",
    "\n",
    "# Terminal state (without mass)\n",
    "x_f = zeros(6);"
   ]
  },
  {
   "cell_type": "markdown",
   "id": "37ac6033-0e7a-4be0-a4ca-b871c57708a4",
   "metadata": {},
   "source": [
    "Recall that the boundary conditions are defined as the equality constraints:\n",
    "\n",
    "\\begin{align}\n",
    "g_{ic}(x(0), p) &= 0, \\\\\n",
    "g_{tc}(x(1), p) &= 0.\n",
    "\\end{align}\n",
    "\n",
    "Given the definitions of $x_0$ (`x_0`) and $x_f$ (`x_f`), define the $g_{ic}$ and $g_{tc}$ functions.\n",
    "\n",
    "\\begin{align}\n",
    "g_{ic}(x, p) &= \\mathrm{\\color{grey}{TODO}}, \\\\\n",
    "g_{tc}(x, p) &= \\mathrm{\\color{grey}{TODO}}.\n",
    "\\end{align}"
   ]
  },
  {
   "cell_type": "markdown",
   "id": "fddb68f0-d2d9-49ed-86ca-49b9d63ed0d7",
   "metadata": {},
   "source": [
    "<details>\n",
    "\n",
    "<summary>Answer</summary>\n",
    "\n",
    "\\begin{align}\n",
    "g_{ic}(x, p) &= x-x_0, \\\\\n",
    "g_{tc}(x, p) &= E_{m} x-x_f,\n",
    "\\end{align}\n",
    "where:\n",
    "$$\n",
    "E_{m} = \\begin{bmatrix}\n",
    "I\\in\\mathbb R^{6\\times 6} &\\mid & 0\n",
    "\\end{bmatrix}\\in\\mathbb R^{6\\times 7}.\n",
    "$$\n",
    "\n",
    "</details>"
   ]
  },
  {
   "cell_type": "markdown",
   "id": "f16f66d3-e273-4670-9e39-0428d04e9c3e",
   "metadata": {},
   "source": [
    "Now implement these functions in Julia."
   ]
  },
  {
   "cell_type": "code",
   "execution_count": 167,
   "id": "7a5cce90-fae9-420a-af52-abd8831f3b42",
   "metadata": {},
   "outputs": [],
   "source": [
    "\n",
    "\n",
    "g_ic(x, p) = x-x_0 # Enter your code here\n",
    "g_tc(x, p) = x[1:6]-x_f; # Enter your code here\n",
    "\n"
   ]
  },
  {
   "cell_type": "markdown",
   "id": "1448214e-ea66-4389-b344-11067f1db3af",
   "metadata": {},
   "source": [
    "<details>\n",
    "\n",
    "<summary>Answer</summary>\n",
    "\n",
    "```julia\n",
    "g_ic(x, p) = x-x_0\n",
    "g_tc(x, p) = x[1:6]-x_f;\n",
    "```\n",
    "\n",
    "</details>"
   ]
  },
  {
   "cell_type": "markdown",
   "id": "5f783597-44f2-4c75-94e8-ab33badb96a0",
   "metadata": {},
   "source": [
    "Again, we need to provide the Jacobians of $g_{ic}$ and $g_{tc}$ for the SCP algorithm to work with. This is needed because, in general, these may be nonaffine functions. Define the following Jacobians:\n",
    "\n",
    "\\begin{align}\n",
    "H_0(x(0), p) &= \\nabla_x g_{ic}(x(0), p), \\\\\n",
    "K_0(x(0), p) &= \\nabla_p g_{ic}(x(0), p), \\\\\n",
    "H_f(x(1), p) &= \\nabla_x g_{tc}(x(1), p), \\\\\n",
    "K_f(x(1), p) &= \\nabla_p g_{tc}(x(1), p).\n",
    "\\end{align}\n",
    "\n",
    "When a Jacobian is not provided, the SCP Toolbox assumes that it is zero. Write down the non-zero Jacobians for $g_{ic}$ and $g_{tc}$ (omit those that are zero).\n",
    "\n",
    "\\begin{align}\n",
    "H_0(x(0), p) &= \\mathrm{\\color{grey}{TODO}}, \\\\\n",
    "K_0(x(0), p) &= \\mathrm{\\color{grey}{TODO}}, \\\\\n",
    "H_f(x(1), p) &= \\mathrm{\\color{grey}{TODO}}, \\\\\n",
    "K_f(x(1), p) &= \\mathrm{\\color{grey}{TODO}}.\n",
    "\\end{align}"
   ]
  },
  {
   "cell_type": "markdown",
   "id": "b4fb82ff-ffee-45f1-bb36-ea7d3aa36c11",
   "metadata": {},
   "source": [
    "<details>\n",
    "\n",
    "<summary>Answer</summary>\n",
    "\\begin{align}\n",
    "H_0(x(0), p) &= I\\in\\mathbb R^{7\\times 7}, \\\\\n",
    "H_f(x(1), p) &= \\begin{bmatrix} I\\in\\mathbb R^{6\\times 6} & 0\\end{bmatrix}\\in\\mathbb R^{6\\times 7}.\n",
    "\\end{align}\n",
    "\n",
    "</details>"
   ]
  },
  {
   "cell_type": "markdown",
   "id": "5a5c0668-2a09-4928-8348-b49d64d8e8ce",
   "metadata": {},
   "source": [
    "Now implement the non-zero Jacobians in Julia. You can delete the lines for the zero Jacobians."
   ]
  },
  {
   "cell_type": "code",
   "execution_count": 168,
   "id": "5685e4f5-ecda-4b76-a664-c2ae6333aad1",
   "metadata": {},
   "outputs": [],
   "source": [
    "\n",
    "\n",
    "H_0(x, p) = I(7) # Enter your code here\n",
    "H_f(x, p) = collect(hcat(I(6), zeros(6))); # Enter your code here\n",
    "\n"
   ]
  },
  {
   "cell_type": "markdown",
   "id": "f5170437-83e9-4835-9672-4b65583a21bc",
   "metadata": {},
   "source": [
    "<details>\n",
    "\n",
    "<summary>Answer</summary>\n",
    "\n",
    "```julia\n",
    "H_0(x, p) = I(7)\n",
    "H_f(x, p) = collect(hcat(I(6), zeros(6)));\n",
    "```\n",
    "\n",
    "</details>"
   ]
  },
  {
   "cell_type": "markdown",
   "id": "4d2cc2c9-8af3-4a50-81fc-752f5cc7af8a",
   "metadata": {},
   "source": [
    "We now use the SCP Toolbox API in order to associate the boundary conditions with the trajectory optimization problem. The code below configures the above functions to accept the arguments that the toolbox will provide them with. The API function `problem_set_bc!` is then used to link the boundary conditions to the trajectory problem.\n",
    "\n",
    "Your job is to uncomment the `problem_set_bc!` calls, and remove the zero Jacobians from each call."
   ]
  },
  {
   "cell_type": "code",
   "execution_count": 169,
   "id": "cefa3b19-6a1f-451a-80f8-3b9c621675b1",
   "metadata": {},
   "outputs": [],
   "source": [
    "\n",
    "\n",
    "wrap(func) = (x, p, pbm) -> func(x, p)\n",
    "# problem_set_bc!(pbm, :ic, wrap(g_ic), wrap(H_0), wrap(K_0))\n",
    "# problem_set_bc!(pbm, :tc, wrap(g_tc), wrap(H_f), wrap(K_f));\n",
    "problem_set_bc!(pbm, :ic, wrap(g_ic), wrap(H_0))\n",
    "problem_set_bc!(pbm, :tc, wrap(g_tc), wrap(H_f));\n",
    "\n"
   ]
  },
  {
   "cell_type": "markdown",
   "id": "296715d5-62ee-437a-b184-c576bdfdf629",
   "metadata": {},
   "source": [
    "<details>\n",
    "\n",
    "<summary>Answer</summary>\n",
    "\n",
    "```julia\n",
    "problem_set_bc!(pbm, :ic, wrap(g_ic), wrap(H_0))\n",
    "problem_set_bc!(pbm, :tc, wrap(g_tc), wrap(H_f));\n",
    "```\n",
    "\n",
    "</details>"
   ]
  },
  {
   "cell_type": "markdown",
   "id": "650d6c6d-0939-4ecd-b9a7-ebdc3258a9b8",
   "metadata": {},
   "source": [
    "## State Constraints"
   ]
  },
  {
   "cell_type": "markdown",
   "id": "ad491503-ad9e-4ae6-8800-33e3eacd7fe9",
   "metadata": {},
   "source": [
    "In order to not collide with the ground or any obstacles (such as hills) surrounding the landing site, the rocket's position is constrained to be above a certain glideslope, as illustrated in the figure at the top of this notebook.\n",
    "\n",
    "Write down the glideslope constraint on the position vector $[x;y]$. (Hint: it is a convex inequality and involves $|x|$).\n",
    "\n",
    "$$\n",
    "\\mathrm{\\color{grey}{TODO}}\\le 0.\n",
    "$$"
   ]
  },
  {
   "cell_type": "markdown",
   "id": "18ac65fc-ddef-4bb8-99c9-a6f71e8d67bc",
   "metadata": {},
   "source": [
    "<details>\n",
    "\n",
    "<summary>Answer</summary>\n",
    "\n",
    "$$\n",
    "|x|-\\frac{y}{\\tan(\\gamma_{gs})}\\le 0.\n",
    "$$\n",
    "\n",
    "</details>"
   ]
  },
  {
   "cell_type": "markdown",
   "id": "16530448-cb56-438e-a283-17214417fb23",
   "metadata": {},
   "source": [
    "What kind of convex cone can represent this constraint?\n",
    "\n",
    "Enter your answer in term of the Julia variable that is used to by the SCP Toolbox to denote the cone (recall the table from the Part 1 notebook): `TODO`."
   ]
  },
  {
   "cell_type": "markdown",
   "id": "a8b6d915-ffc9-4f86-a25a-c1e8307b6af8",
   "metadata": {},
   "source": [
    "<details>\n",
    "\n",
    "<summary>Answer</summary>\n",
    "\n",
    "`L1`\n",
    "\n",
    "</details>"
   ]
  },
  {
   "cell_type": "markdown",
   "id": "ad2e019e-9e62-4f9b-9e13-eae614c12aee",
   "metadata": {},
   "source": [
    "Now use the SCP Toolbox's `@add_constraint` macro (which you learned about in Part 1) in order to define the glideslope constraint. Assume that the function receives `x` (the full state vector) and `clp` (the `ConicProgram` object)."
   ]
  },
  {
   "cell_type": "code",
   "execution_count": 170,
   "id": "940644a0-9a4b-4dd1-b804-99ea8110e7e0",
   "metadata": {},
   "outputs": [],
   "source": [
    "glideslope(x, clp) = @add_constraint(clp, L1, x -> begin\n",
    "        x, y = x[1], x[2]\n",
    "        return [y/tan(γ_gs); x]\n",
    "    end);"
   ]
  },
  {
   "cell_type": "markdown",
   "id": "a128ac41-69a8-421b-960d-3e0fe9ea45df",
   "metadata": {},
   "source": [
    "<details>\n",
    "\n",
    "<summary>Answer</summary>\n",
    "\n",
    "```julia\n",
    "glideslope(x, clp) = @add_constraint(clp, L1, x -> begin\n",
    "        x, y = x[1], x[2]\n",
    "        return [y/tan(γ_gs); x]\n",
    "    end);\n",
    "```\n",
    "    \n",
    "</details>"
   ]
  },
  {
   "cell_type": "markdown",
   "id": "a1df56d0-bac4-4d42-babd-678fc0dc492f",
   "metadata": {},
   "source": [
    "Let's associate this constraint with the trajectory problem using the SCP Toolbox API for convex state constraints."
   ]
  },
  {
   "cell_type": "code",
   "execution_count": 171,
   "id": "76e363e5-3155-44a9-a3c9-27380262e1d9",
   "metadata": {},
   "outputs": [],
   "source": [
    "problem_set_X!(pbm, (t, k, x, p, pbm, clp) -> glideslope(x, clp))"
   ]
  },
  {
   "cell_type": "markdown",
   "id": "98d5dc75-28a8-4332-8e63-2d4e7b23d788",
   "metadata": {},
   "source": [
    "## Control Constraints"
   ]
  },
  {
   "cell_type": "markdown",
   "id": "3f6d22fd-b478-4c94-8e49-326ba2bd195c",
   "metadata": {},
   "source": [
    "The control constraints ensure that the rocket's propulsion system can actually reproduce the inputs that are computed by the optimal trajectory.\n",
    "\n",
    "For this problem, we will constraint the thrust to $T\\in [T_{\\min}, T_{\\max}]$ and the gimbal angle $\\delta\\in [-\\delta_{\\max},\\delta_{\\max}]$.\n",
    "\n",
    "Write these control constraints as cones. Write the constraints separately for thrust lower bound, upper bound, and gimbal angle (thus you should end up with 3 cones). Only use the cones that are supported by the SCP Toolbox (refer to Part 1)."
   ]
  },
  {
   "cell_type": "markdown",
   "id": "95d45849-72e6-42dd-8d78-dc5b377bf376",
   "metadata": {},
   "source": [
    "<details>\n",
    "\n",
    "<summary>Answer</summary>\n",
    "\n",
    "\\begin{align*}\n",
    "T_{\\min}-T &\\in \\mathbb K_{\\le 0}, \\\\\n",
    "T-T_{\\max} &\\in \\mathbb K_{\\le 0}, \\\\\n",
    "\\begin{bmatrix}\n",
    "\\delta_{\\max} \\\\ \\delta\n",
    "\\end{bmatrix} &\\in \\mathbb K_{1}.\n",
    "\\end{align*}\n",
    "    \n",
    "</details>"
   ]
  },
  {
   "cell_type": "markdown",
   "id": "6c2e504e-743e-4b63-b8f7-c4374da56237",
   "metadata": {},
   "source": [
    "Now implement each constraint in Julia using `@add_constraint`."
   ]
  },
  {
   "cell_type": "code",
   "execution_count": 172,
   "id": "b4f9c270-9981-4315-8ea8-4581feb9cc7c",
   "metadata": {},
   "outputs": [],
   "source": [
    "\n",
    "\n",
    "# Enter your code here\n",
    "thrust_upper_bound(T, clp) = @add_constraint(clp, NONPOS, T -> T-T_max)\n",
    "thrust_lower_bound(T, clp) = @add_constraint(clp, NONPOS, T -> T_min-T)\n",
    "gimbal_limit(δ, clp) = @add_constraint(clp, L1, δ -> vcat(δ_max, δ));\n",
    "\n"
   ]
  },
  {
   "cell_type": "markdown",
   "id": "73d399bd-43f2-4aa1-9106-99de2ab080e9",
   "metadata": {},
   "source": [
    "<details>\n",
    "\n",
    "<summary>Answer</summary>\n",
    "\n",
    "```julia\n",
    "thrust_upper_bound(T, clp) = @add_constraint(clp, NONPOS, T -> T-T_max)\n",
    "thrust_lower_bound(T, clp) = @add_constraint(clp, NONPOS, T -> T_min-T)\n",
    "gimbal_limit(δ, clp) = @add_constraint(clp, L1, δ -> vcat(δ_max, δ));\n",
    "```\n",
    "    \n",
    "</details>"
   ]
  },
  {
   "cell_type": "markdown",
   "id": "c450bb32-7cdb-4117-b94e-7979f8e258dc",
   "metadata": {},
   "source": [
    "Now call the SCP Toolbox API function `problem_set_U!` in order to associate the convex input constraints with the trajectory problem."
   ]
  },
  {
   "cell_type": "code",
   "execution_count": 173,
   "id": "ba4deee7-b488-4501-8a0d-9c1a3a10a42b",
   "metadata": {},
   "outputs": [],
   "source": [
    "\n",
    "\n",
    "problem_set_U!(pbm, (t, k, u, p, pbm, clp) -> begin\n",
    "        # Enter your code here\n",
    "        T, δ = u[1], u[2]\n",
    "        thrust_upper_bound(T, clp)\n",
    "        thrust_lower_bound(T, clp)\n",
    "        gimbal_limit(δ, clp)\n",
    "    end)\n",
    "\n"
   ]
  },
  {
   "cell_type": "markdown",
   "id": "5af715cc-fbc1-4ea4-b53e-5964732506e0",
   "metadata": {
    "deletable": false,
    "editable": false,
    "tags": []
   },
   "source": [
    "<details>\n",
    "\n",
    "<summary>Answer</summary>\n",
    "\n",
    "```julia\n",
    "problem_set_U!(pbm, (t, k, u, p, pbm, clp) -> begin\n",
    "        T, δ = u[1], u[2]\n",
    "        thrust_upper_bound(T, clp)\n",
    "        thrust_lower_bound(T, clp)\n",
    "        gimbal_limit(δ, clp)\n",
    "    end)\n",
    "```\n",
    "    \n",
    "</details>"
   ]
  },
  {
   "cell_type": "markdown",
   "id": "9fd3d3c8-29b1-4227-96a4-e5de000e3391",
   "metadata": {},
   "source": [
    "## Objective Function"
   ]
  },
  {
   "cell_type": "markdown",
   "id": "62945fa0-3eb5-4b08-b406-74bcad65d863",
   "metadata": {},
   "source": [
    "A common objective for rocket landing guidance is to compute a trajectory that uses the least amount of fuel. This results in a lighter vehicle design that can carry more useful scientific payload, and other beneficial tradeoffs.\n",
    "\n",
    "Minimizing fuel use is equivalent to maxizing the final mass of the rocket (since the least amount of fuel will have then been depleted). The SCP Toolbox seeks to __minimize__ the following objective function:\n",
    "\n",
    "$$\n",
    "J(x, u, p) = \\phi(x(1), p) + \\int_0^1 \\Gamma(x(t), u(t), p) dt.\n",
    "$$\n",
    "\n",
    "Define $\\phi$ and $\\Gamma$ for maximizing the final mass:\n",
    "\n",
    "\\begin{align*}\n",
    "\\phi(x(1), p) &= \\mathrm{\\color{grey}{TODO}}, \\\\\n",
    "\\Gamma(x(t), u(t), p) &= \\mathrm{\\color{grey}{TODO}}.\n",
    "\\end{align*}\n",
    "\n",
    "Be sure to _normalize_ the functions, meaning that you should multiply them by a constant coefficient such that along any reasonable trajectory the following (approximately) hold: $\\phi(\\cdot)\\in [0,1]$ and $\\Gamma(\\cdot)\\in [0,1]$.\n",
    "\n",
    "(Hint: one of the functions may have to be zero!)"
   ]
  },
  {
   "cell_type": "markdown",
   "id": "d6af507a-96a2-48f8-85e9-c116c0b20376",
   "metadata": {},
   "source": [
    "<details>\n",
    "\n",
    "<summary>Answer</summary>\n",
    "\n",
    "\\begin{align*}\n",
    "\\phi(x(1), p) &= -\\frac{ m(1) }{ m_{wet} }, \\\\\n",
    "\\Gamma(x(t), u(t), p) &= 0.\n",
    "\\end{align*}\n",
    "    \n",
    "</details>"
   ]
  },
  {
   "cell_type": "markdown",
   "id": "56e96b0d-125c-47d0-8e3c-4038ada3a4c1",
   "metadata": {},
   "source": [
    "Now implement the functions in Julia. (Hint: you can delete any function that is zero)."
   ]
  },
  {
   "cell_type": "code",
   "execution_count": 174,
   "id": "bf1f2cc1-38eb-4418-91cd-9e475a97487a",
   "metadata": {},
   "outputs": [
    {
     "data": {
      "text/plain": [
       "ϕ (generic function with 1 method)"
      ]
     },
     "metadata": {},
     "output_type": "display_data"
    }
   ],
   "source": [
    "\n",
    "\n",
    "ϕ(x, p) = -x[end]/m_wet;\n",
    "#Γ(x, u, p) = # Enter your code here"
   ]
  },
  {
   "cell_type": "markdown",
   "id": "8f14bf71-e554-44e4-ae87-b625db0f38e5",
   "metadata": {},
   "source": [
    "<details>\n",
    "\n",
    "<summary>Answer</summary>\n",
    "\n",
    "```julia\n",
    "ϕ(x, p) = -x[end]/m_wet;\n",
    "```\n",
    "    \n",
    "</details>"
   ]
  },
  {
   "cell_type": "markdown",
   "id": "c5eff2ec-6e4f-4da2-9e7f-46a1800604a3",
   "metadata": {},
   "source": [
    "We now have to pass the above functions to the objective function definition of the trajectory problem. The SCP Toolbox allows us to do this via the API functions `problem_set_terminal_cost!` and `problem_set_running_cost!`. If either one is missing, you can omit the call and it will be assumed that the corresponding part of the objective is zero.\n",
    "\n",
    "In the cell below, uncomment the lines corresponding to the non-zero components of the cost."
   ]
  },
  {
   "cell_type": "code",
   "execution_count": 175,
   "id": "c28ab8ba-37ae-4516-8e4a-1120e04db2ca",
   "metadata": {},
   "outputs": [],
   "source": [
    "problem_set_terminal_cost!(pbm, (x, p, pbm) -> ϕ(x, p))\n",
    "# problem_set_running_cost!(pbm, (t, k, x, u, p, pbm) -> Γ(x, u, p))"
   ]
  },
  {
   "cell_type": "markdown",
   "id": "5a84b453-dc4f-45e3-ac12-b85ae5c1acea",
   "metadata": {},
   "source": [
    "<details>\n",
    "\n",
    "<summary>Answer</summary>\n",
    "\n",
    "```julia\n",
    "problem_set_terminal_cost!(pbm, (x, p, pbm) -> ϕ(x, p));\n",
    "```\n",
    "    \n",
    "</details>"
   ]
  },
  {
   "cell_type": "markdown",
   "id": "f6da290e-b14c-4a44-b5be-e6ad01f2738e",
   "metadata": {},
   "source": [
    "## Initial Trajectory Guess"
   ]
  },
  {
   "cell_type": "markdown",
   "id": "6543f0a6-9990-4a47-ba25-81846120bd7f",
   "metadata": {},
   "source": [
    "The initial trajectory guess is required to get an SCP algorithm started. This guess can be quite coarse, and does not need to be feasible with respect to the dynamics and nonconvex constraints. Some SCP algorithms require the guess to be feasible with respect to the convex constraints, which is usually easy to do (in fact, it can be done automatically via a convex projection).\n",
    "\n",
    "A straight-line guess is sufficient for the rocket landing problem. The following code interpolates from the initial to the final condition. The duration is set to the time it would take an average thrust to slow the rocket down to a hover. The angular rate is set to a constant value that rotates the rocket from its initial tilt to the final upright orientation."
   ]
  },
  {
   "cell_type": "code",
   "execution_count": 176,
   "id": "227db77b-4023-4375-aaf6-8d6bf3383b68",
   "metadata": {},
   "outputs": [],
   "source": [
    "T_guess = T_min+0.5*(T_max-T_min) # [N] Initial thrust guess\n",
    "v_0, v_f = x_0[3:4], x_f[3:4]\n",
    "tf_guess = norm(v_f-v_0, 2)/(T_guess/m_wet-g)\n",
    "Δm_guess = -α*T_guess*tf_guess\n",
    "m_dry_guess = x_0[end]+Δm_guess\n",
    "\n",
    "state_guess(N) = begin\n",
    "    x_guess = straightline_interpolate(x_0, vcat(x_f, m_dry_guess), N)\n",
    "    x_guess[6, :] .= (x_f[5]-x_0[5])/tf_guess\n",
    "    return x_guess\n",
    "end;"
   ]
  },
  {
   "cell_type": "markdown",
   "id": "f137d81c-1ba7-46c9-92a1-07c939ebcf35",
   "metadata": {},
   "source": [
    "Let's guess the input to be a constant thrust of `T_guess` amount, and zero gimbal angle. Complete the following function using `straightline_interpolate`."
   ]
  },
  {
   "cell_type": "code",
   "execution_count": 177,
   "id": "81f9b276-ba1c-426f-abaf-e3290f214423",
   "metadata": {},
   "outputs": [],
   "source": [
    "input_guess(N) = straightline_interpolate([T_guess; 0.0], [T_guess; 0.0], N); # Enter your code here"
   ]
  },
  {
   "cell_type": "markdown",
   "id": "59518514-9e32-4e17-91a0-2782c2e337c6",
   "metadata": {},
   "source": [
    "<details>\n",
    "\n",
    "<summary>Answer</summary>\n",
    "\n",
    "```julia\n",
    "input_guess(N) = straightline_interpolate([T_guess; 0.0], [T_guess; 0.0], N);\n",
    "```\n",
    "    \n",
    "</details>"
   ]
  },
  {
   "cell_type": "markdown",
   "id": "841cdc18-286d-48f5-8a6c-8e7eedd8d1d7",
   "metadata": {},
   "source": [
    "The following call the `problem_set_guess!` lets the SCP Toolbox know to use these initial guesses for the SCP solution."
   ]
  },
  {
   "cell_type": "code",
   "execution_count": 178,
   "id": "8cb4fa7f-f4bb-4325-9581-1f1b93f3f831",
   "metadata": {},
   "outputs": [],
   "source": [
    "\n",
    "\n",
    "problem_set_guess!(pbm, (N, pbm) -> begin\n",
    "    x = state_guess(N)\n",
    "    u = input_guess(N)\n",
    "    p = [tf_guess]\n",
    "    return x, u, p\n",
    "end)\n",
    "\n"
   ]
  },
  {
   "cell_type": "markdown",
   "id": "79b0ed94-5c13-4ef3-839f-5462f2d415f5",
   "metadata": {},
   "source": [
    "## Variable Scaling"
   ]
  },
  {
   "cell_type": "markdown",
   "id": "2372f330-f06d-463d-a43f-2d9c7da4bf7b",
   "metadata": {},
   "source": [
    "Variable scaling is important when the solution variables are of widely different magnitudes. This is definitely the case for the rocket landing problem. For example, the gimbal angle varies in the $[-\\delta_{\\max}, \\delta_{\\max}]$ (which is on the order of $0.1$) while thrust can be as high as 100 kilonewtons and mass can be as high as several thousan kilograms.\n",
    "\n",
    "The SCP Toolbox performs automatic scaling for variables whose magnitudes are naturally constrained by the convex constraints. However, you can also set the variable scaling manually by providing the expected value ranges for each variable. This is done using the SCP Toolbox API function `problem_advise_scale!!`.\n",
    "\n",
    "The function accepts the element index in the state, input, or parameter vector, and a tuple `(min, max)` range for the expected values of the corresponding variable. The bounds don't have to be exact, but a well-chosen set of tight bounds will do better.\n",
    "\n",
    "In the cell directly below, define the ranges (as `(min, max)` tuples) for the mass and thrust."
   ]
  },
  {
   "cell_type": "code",
   "execution_count": 179,
   "id": "b09fead4-adb8-4057-830e-7af3a0ad1fa8",
   "metadata": {},
   "outputs": [
    {
     "data": {
      "text/plain": [
       "(20000.0, 80000.0)"
      ]
     },
     "metadata": {},
     "output_type": "display_data"
    }
   ],
   "source": [
    "\n",
    "\n",
    "mass_range = (m_wet+Δm_guess, m_wet) # Enter your code here\n",
    "thrust_range = (T_min, T_max) # Enter your code here\n",
    "\n"
   ]
  },
  {
   "cell_type": "markdown",
   "id": "5d3f841a-df20-4d34-9076-ab9920c727c0",
   "metadata": {},
   "source": [
    "<details>\n",
    "\n",
    "<summary>Answer</summary>\n",
    "\n",
    "```julia\n",
    "mass_range = (m_wet+Δm_guess, m_wet)\n",
    "thrust_range = (T_min, T_max)\n",
    "```\n",
    "    \n",
    "</details>"
   ]
  },
  {
   "cell_type": "code",
   "execution_count": 180,
   "id": "1a77a594-8660-4d5d-aef6-91816e64f8ae",
   "metadata": {},
   "outputs": [],
   "source": [
    "rx_range_box = max(x_0[1], 1.0)\n",
    "ry_range_box = max(x_0[2], 1.0)\n",
    "vx_range_box = max(abs(x_0[3]), 1.0)\n",
    "vy_range_box = min(x_0[4], -1.0)\n",
    "θ_range_box = deg2rad(20.0)\n",
    "ω_range_box = max(abs(x_0[6]), deg2rad(5.0))\n",
    "δ_range_box = deg2rad(1.0)\n",
    "\n",
    "problem_advise_scale!(pbm, :state, 1, (-rx_range_box, rx_range_box))\n",
    "problem_advise_scale!(pbm, :state, 2, (0, ry_range_box))\n",
    "problem_advise_scale!(pbm, :state, 3, (-vx_range_box, vx_range_box))\n",
    "problem_advise_scale!(pbm, :state, 4, (vy_range_box, 0.0))\n",
    "problem_advise_scale!(pbm, :state, 5, (-θ_range_box, θ_range_box))\n",
    "problem_advise_scale!(pbm, :state, 6, (-ω_range_box, ω_range_box))\n",
    "problem_advise_scale!(pbm, :state, 7, mass_range)\n",
    "\n",
    "problem_advise_scale!(pbm, :input, 1, thrust_range)\n",
    "problem_advise_scale!(pbm, :input, 2, (-δ_range_box, δ_range_box))\n",
    "\n",
    "problem_advise_scale!(pbm, :parameter, 1, (0.5*tf_guess, tf_guess));"
   ]
  },
  {
   "cell_type": "markdown",
   "id": "6cfcca4c-721b-4e59-b42f-4b064c32ee70",
   "metadata": {},
   "source": [
    "## Solve the Problem Using PTR"
   ]
  },
  {
   "cell_type": "markdown",
   "id": "e9932fdf-b254-4c76-9ca1-d35bf14eac26",
   "metadata": {},
   "source": [
    "With the trajectory problem fully defined, it's time to select an SCP algorithm to solve it. This comes down to selecting the set of parameters that guide the algorithm's behavior.\n",
    "\n",
    "The toolbox currently provides three algorithsm: `PTR`, `SCvx`, and `GuSTO`. The latter two are discussed in detail in the [IEEE Control Systems Magazine tutorial paper](https://arxiv.org/abs/2106.09125). The first algorithm (which goes by the full name of \"Penalized Trust Region\") is described in several papers, most notably an [AIAA Journal of Guidance, Control, and Dynamics paper on rocket landing](https://arxiv.org/abs/1811.10803).\n",
    "\n",
    "This time we will use PTR to solve the trajectory problem. The parameters below were found to work well. SCP algorithms do not have a generic set of parameters that work well for every problem. Generally, some tuning is required, but afterwards the same set of parameters applies to a wide range of perturbations of the original problem (such as in initial condition, mass, inertia, thrust magnitudes, etc.)."
   ]
  },
  {
   "cell_type": "code",
   "execution_count": 181,
   "id": "bf7d0ccf-e9df-4c31-8a6e-2b6815b9e4ad",
   "metadata": {},
   "outputs": [],
   "source": [
    "# Parameters\n",
    "N, Nsub = 20, 20\n",
    "iter_max = 30\n",
    "disc_method = FOH\n",
    "wvc, wtr = 1e1, 1e-1\n",
    "feas_tol = 5e-3\n",
    "ε_abs, ε_rel = 1e-5, 1e-4\n",
    "q_tr = Inf\n",
    "q_exit = Inf\n",
    "solver, solver_options = ECOS, Dict(\"verbose\"=>0)      \n",
    "\n",
    "pars = PTR.Parameters(N, Nsub, iter_max, disc_method, wvc, wtr, ε_abs,\n",
    "                      ε_rel, feas_tol, q_tr, q_exit, solver, solver_options);"
   ]
  },
  {
   "cell_type": "markdown",
   "id": "850767fe-9957-4771-9663-b96bdf9677b1",
   "metadata": {},
   "source": [
    "We can then simply \"create\" the SCP problem, which is a combination of the trajectory problem and the algorithm that solves it.\n",
    "\n",
    "We subsequently call the `solve` method. This prints a progress table at each iteration of the SCP algorithm."
   ]
  },
  {
   "cell_type": "code",
   "execution_count": 182,
   "id": "56da5ec8-4e64-4b59-b838-98a7d2c36fc1",
   "metadata": {},
   "outputs": [
    {
     "name": "stdout",
     "output_type": "stream",
     "text": [
      "k  | status   | vd    | vs    | vbc   | J         | ΔJ %      | Δx    | Δu    | Δp    | δ     | dyn | ηx    | ηu    | ηp   \n",
      "---+----------+-------+-------+-------+-----------+-----------+-------+-------+-------+-------+-----+-------+-------+------\n",
      "1  | OPTIMAL  | 6e-10 | 0e+00 | 2e-11 | -8.20e-01 |           | 2e+00 | 5e+00 | 3e-01 | 2e+00 | F   | 1.88  | 5.00  | 0.25 \n"
     ]
    },
    {
     "name": "stdout",
     "output_type": "stream",
     "text": [
      "2  | OPTIMAL  | 3e-10 | 0e+00 | 2e-12 | -8.97e-01 | 9.38      | 4e-01 | 1e+00 | 9e-13 | 4e-01 | F   | 0.38  | 1.00  | 0.00 \n"
     ]
    },
    {
     "name": "stdout",
     "output_type": "stream",
     "text": [
      "3  | OPTIMAL  | 2e-09 | 0e+00 | 1e-11 | -9.37e-01 | 4.52      | 2e-01 | 6e-01 | 2e-11 | 2e-01 | T   | 0.18  | 0.57  | 0.00 \n"
     ]
    },
    {
     "name": "stdout",
     "output_type": "stream",
     "text": [
      "4  | OPTIMAL  | 3e-10 | 0e+00 | 3e-13 | -9.48e-01 | 1.17      | 9e-03 | 3e-02 | 1e-13 | 9e-03 | T   | 0.01  | 0.03  | 0.00 \n"
     ]
    },
    {
     "name": "stdout",
     "output_type": "stream",
     "text": [
      "5  | OPTIMAL  | 2e-08 | 0e+00 | 2e-10 | -9.49e-01 | 0.07      | 6e-05 | 2e-04 | 1e-11 | 6e-05 | T   | 0.00  | 0.00  | 0.00 \n"
     ]
    },
    {
     "name": "stdout",
     "output_type": "stream",
     "text": [
      "6  | OPTIMAL  | 2e-08 | 0e+00 | 2e-10 | -9.49e-01 | 0.00      | 2e-09 | 5e-10 | 2e-11 | 2e-09 | T   | 0.00  | 0.00  | 0.00 \n"
     ]
    }
   ],
   "source": [
    "ptr_pbm = PTR.create(pars, pbm)\n",
    "sol, history = PTR.solve(ptr_pbm);"
   ]
  },
  {
   "cell_type": "markdown",
   "id": "a4b502e7-a626-4761-9022-7fc68d55c6db",
   "metadata": {},
   "source": [
    "## Plots"
   ]
  },
  {
   "cell_type": "code",
   "execution_count": 183,
   "id": "1a89c83d-0cf0-410f-8f51-b542f237001f",
   "metadata": {},
   "outputs": [
    {
     "name": "stdout",
     "output_type": "stream",
     "text": [
      "[499.9999999999857 519.1991784408907 539.4570073776631 560.5568651520648 582.2780793303543 604.4059646703328 626.767391473364 649.2667524288759 671.7958608407405 694.1934374397184 716.238801132451 737.660055015369 758.1655387397958 777.4769609039938 795.3594613626474 811.6130367418699 826.0725848094978 838.6577116874795 849.3400510675856 858.1063263514211 864.9824073503266 869.9951119699218 873.1596327352246 874.4947402261214 874.0073020579315 871.6971098044012 867.5895017427224 861.7184992936375 854.1734427051963 845.0845882207522 834.5750272273817 822.7624896396869 809.7824213596791 795.7890641148688 780.9404749472449 765.3933374596893 749.28613898889 732.739304173146 715.8081032360932 698.4906632807999 680.7860682257777 662.7030799154996 644.2536166257049 625.4609441550413 606.3678696172774 587.0167819959954 567.4495178557794 547.7107481818173 527.8469480542491 507.90988524431623 487.9454506861374 467.9899810901346 448.0714023088208 428.20999356373267 408.42777132136564 388.7497008511988 369.20015819181356 349.8044254057693 330.5894485497547 311.58189624532156 292.81072096258947 274.30713796093164 256.09982982647955 238.21930415872382 220.70026451649585 203.57561045149615 186.88093697755065 170.6555735490345 154.93469735914005 139.7700332278484 125.24416630248683 111.43848057828859 98.4392756235713 86.33813359731343 75.19822713769446 65.03022302735283 55.83192467125534 47.58351479102214 40.26490333287789 33.84956530229928 28.25712492397299 23.396330607258207 19.180136180420263 15.516473013225344 12.323375392493713 9.558666498900353 7.198769089493377 5.220436501733599 3.5997287908708966 2.3063537025636607 1.3094396965461794 0.5773460733363728 0.07486223775214441 -0.23204222469290575 -0.37723427591354336 -0.39721676715841847 -0.33205019276823633 -0.2283896416651749 -0.13566646208051314 -0.0987669466917607; 1400.0000000000655 1376.9204463064398 1354.1176411102208 1331.5039665228423 1308.9813582120717 1286.4269389877363 1263.7273148335416 1241.0215772417544 1218.5676800137137 1196.6102785222888 1175.377472233274 1155.0479018736714 1135.6301032663612 1116.989828931879 1098.9519466056313 1081.333926078138 1063.960819214838 1046.7109349390576 1029.5446547899621 1012.4618018062646 995.488104897679 978.6662412058492 962.0366766198904 945.6127085170394 929.4064795425675 913.4356056262884 897.7211826156209 882.2863370538969 867.1298798813236 852.2400499165749 837.6058070141787 823.2140828808754 809.0397835193017 795.015776625873 781.0441713772192 767.0141315900254 752.8042355761685 738.2858260735358 723.4424887132673 708.3633170721856 693.142255088215 677.8755520986949 662.6581735256941 647.5593857717321 632.6023524339721 617.8052336413101 603.185806041766 588.758308664258 574.5088553884813 560.341121676474 546.140831763717 531.7931899622155 517.1800723586391 502.20356320450026 486.8608731574484 471.1799591935612 455.1920697819696 438.9258234871114 422.40874074587293 405.67776756695855 388.77206946301806 371.72985991316654 354.590451913823 337.3919492008497 320.17740831680777 302.9952096929939 285.8931700133226 268.9196129348319 252.12114472248834 235.57066186232322 219.39211796517841 203.7092530054134 188.64617818435994 174.33200699951828 160.86208479368136 148.24864923882484 136.49291366445402 125.58956088336649 115.54075831246209 106.34064992529207 97.8796303265704 90.01507437100733 82.60469492439574 75.49934012031731 68.55920569664767 61.74775712351544 55.10138920359968 48.65880791211904 42.46022622347017 36.54247828138409 30.9328222614433 25.647174581628374 20.696230750565988 16.09168589778247 11.846864612813485 8.015528474512195 4.749340059191137 2.216953979194929 0.5776796924853973 -0.006699993575286622; 22.22222222220531 23.610693669228084 24.75156875008444 25.62477101863523 26.23336792081297 26.604699849776853 26.81498107017022 26.925457439655645 26.875563770534868 26.598853542264344 26.025742843648302 25.100938433861376 23.83777729880707 22.264465513583335 20.425609643065627 18.3735424574442 16.16725340314601 13.899815791641059 11.616611909686126 9.342104095698998 7.093764404254459 4.88207332149338 2.688879500690671 0.5027002259951419 -1.6736894925277008 -3.8353779652377957 -5.975404853680004 -8.03831933459459 -9.959219714724776 -11.73391376704811 -13.359865937565383 -14.83573423673137 -16.147579448182682 -17.26121493542107 -18.18570880033515 -18.936419108507057 -19.528855653837855 -19.99846539243068 -20.45942967153743 -20.922068189428202 -21.379994354129963 -21.82692266764262 -22.25516103911187 -22.640045544433995 -22.97434576889137 -23.257546766766467 -23.488876606924617 -23.668060981532637 -23.786081132810022 -23.844229793904773 -23.853489107548455 -23.824448407037462 -23.767390276685653 -23.686771436098343 -23.57755167620505 -23.43872173415815 -23.26982231158224 -23.070362205374504 -22.839106121335227 -22.57361580494815 -22.273028944902748 -21.936515147145897 -21.563728432457708 -21.15373083046731 -20.702721160929947 -20.209494255897493 -19.673075846801986 -19.092101840873163 -18.463791379327294 -17.753194858814524 -16.94244818786362 -16.028904686534894 -15.011544089801982 -13.891929911415595 -12.726896584529179 -11.566690258057193 -10.419843186567793 -9.29375746653053 -8.19495682275777 -7.155871092538706 -6.225554683233378 -5.40428881355383 -4.690632546711239 -4.080644193081721 -3.554844301691268 -3.057407078203927 -2.586222508939845 -2.144505931179979 -1.7353535535079474 -1.3613465366438702 -1.0261279116356727 -0.7310395177326474 -0.476455917783015 -0.2630121877252518 -0.09158398444516966 0.03582820590461812 0.11074611526744955 0.12695904021646695 0.08545339717974185 -0.004346427874443318; -27.777777777743246 -27.391669818971312 -27.112684425374567 -26.941370733367872 -26.90083952828489 -27.022876026249243 -27.176358746208855 -27.027831705706937 -26.57657086373834 -25.84298822116526 -24.858205226641466 -23.720519948717318 -22.702906729065752 -21.87547906407145 -21.262941415679723 -20.869495269752683 -20.669875412712997 -20.555872105454917 -20.46253716670795 -20.351899730095365 -20.197981430911373 -19.98750829453653 -19.74771799467808 -19.494943553319985 -19.225601888277712 -18.933452890731832 -18.61012188550032 -18.27234403932756 -17.947190279952434 -17.63420142641497 -17.336011248158755 -17.05793539138042 -16.826642839749596 -16.70282570935438 -16.70433726520838 -16.84474689660287 -17.137362090759268 -17.555579703329542 -17.89388997779058 -18.119748339279873 -18.23152036262463 -18.2291566469257 -18.116681732245972 -17.95851182044148 -17.777665093198664 -17.5759266741213 -17.354968110402304 -17.11767640966984 -16.9529928539847 -16.92358111523631 -17.030981062711568 -17.276858619969783 -17.663076421500396 -18.11828821711534 -18.538679445846707 -18.92354640366458 -19.27376686438028 -19.589970743260167 -19.869129361727012 -20.101657923407156 -20.287423265484385 -20.42671161769453 -20.520294858283158 -20.567136525907955 -20.557348635402427 -20.489920826442212 -20.365427841923445 -20.184179837140096 -19.94360420422596 -19.57697516820035 -19.05854326267088 -18.39081993525893 -17.57444297121082 -16.60824800770665 -15.579506721269414 -14.557132170017988 -13.53712085746237 -12.515982138525548 -11.490876041125077 -10.52287566972446 -9.723277312525349 -9.095537687722146 -8.642458642717553 -8.365355090552441 -8.221615996148358 -8.047252412059196 -7.826483438506355 -7.55930674837425 -7.245703053702451 -6.889015217058796 -6.511176510046911 -6.117864023887497 -5.710068595476422 -5.28870248759926 -4.85012603848196 -4.271919047410815 -3.4969329812161725 -2.525323737506189 -1.359353534512489 0.0005319738608171587; -0.5235987756017809 -0.5047044161073702 -0.4549682753800518 -0.38342458197900386 -0.29768068373586154 -0.2040909583006842 -0.10714610546055159 -0.007712756605619283 0.09470473812521668 0.20061299227065005 0.3105355733446491 0.4247270555285974 0.540113498879632 0.6508370641601591 0.7510092921541256 0.8347551475645257 0.8961445714967538 0.9338176342213695 0.9523399608029912 0.9566944846801841 0.9520289251643959 0.9433797230154043 0.9342044142725902 0.9239523870787075 0.9114470652627497 0.8954853844693655 0.874903399139404 0.8488385703892517 0.8178370715135733 0.7828729134420678 0.7448187514506134 0.7044709375249214 0.6625957170682102 0.6199677168801636 0.5772888061199224 0.5351110193198492 0.4938328440175482 0.4537071457874331 0.4147678710168765 0.37692323773115327 0.3400458905738011 0.3039600660994899 0.2684604722313055 0.233392149353853 0.19871655318287423 0.1644093874272537 0.13044782924421 0.09680495178757648 0.0635374319444414 0.030920427195625252 -0.0007962953228430824 -0.031426608095206865 -0.060842622003176215 -0.0889970718104156 -0.11588803653506996 -0.14151960157995136 -0.16591521597226483 -0.1890962026452364 -0.2110830631457218 -0.23192317094668488 -0.25167026915341956 -0.2703824200150388 -0.2881391852724955 -0.3050240181939356 -0.32113873309127694 -0.33662034256888934 -0.3516168084640407 -0.36629073784547844 -0.38082138099780394 -0.3951562716237164 -0.4087369351485266 -0.42085945423352566 -0.4307141743355964 -0.43736239104463726 -0.4400889412429301 -0.43908061015492134 -0.43470981254139973 -0.4273841504046718 -0.4174871434091964 -0.40536619711448413 -0.3912455572022008 -0.37527863171836146 -0.35761200265842574 -0.33841348255442694 -0.3178451637582987 -0.2961042609553644 -0.2734372288924489 -0.25009470460294664 -0.2263381966444435 -0.20244134627859472 -0.17854767790279033 -0.15463624050750172 -0.13067535942234515 -0.10663319298979874 -0.08247951326115519 -0.05860816293527295 -0.03644227447318195 -0.01783014084968312 -0.004868677767257695 5.125655198541968e-5; -2.5489441113357714e-10 0.04289987600484063 0.07413600627992659 0.09536548421515509 0.1082218783005465 0.11444445931790212 0.11721132030063146 0.12047544090134882 0.12435243368833127 0.1288319104508409 0.13390678493563463 0.13826600510691386 0.1362635690646291 0.12716646294070388 0.11101893448957553 0.08782825288030445 0.05847975892435561 0.0325461642691848 0.012646160997637549 -0.0011793334787691568 -0.008960025211611114 -0.010788105731317678 -0.01136983624146496 -0.013362875593067097 -0.016767185604297744 -0.021590720879639886 -0.027824712340666226 -0.03428727213244011 -0.03958229107927569 -0.04378984632229341 -0.0469913839140448 -0.04926359522354411 -0.050634667234596586 -0.05108649007999802"
     ]
    },
    {
     "name": "stdout",
     "output_type": "stream",
     "text": [
      " -0.05078604470513851 -0.04991795962561594 -0.04866155072559911 -0.047219383850375454 -0.04584494670244722 -0.04460650457622524 -0.04354980759955019 -0.04271855230384822 -0.04214345648048252 -0.041658889002746724 -0.04120326592452915 -0.04077698478332873 -0.040380614470002865 -0.040011258420178344 -0.03941544982628646 -0.0384759531282651 -0.037273858227180184 -0.035887845147234324 -0.03439646628480805 -0.03287960130807026 -0.0313728564636254 -0.029882625508802045 -0.02841493123938682 -0.02697585359862537 -0.02557532732300092 -0.02423285208522139 -0.022960727145029402 -0.021771119330104994 -0.020675263090997684 -0.01968819398195988 -0.018847626263232695 -0.018175275690371688 -0.01768966555772049 -0.017410596137754385 -0.017323570228020238 -0.016807905245722145 -0.015506866883641 -0.013297814362630438 -0.010054432210076757 -0.005648671812021161 -0.0009444193916662998 0.0032918772773771975 0.007060488287145512 0.010367405735619513 0.013215960583812388 0.015704214520518702 0.01800636098231322 0.020123482829004592 0.02205209877878988 0.02379085756145912 0.02532132988884262 0.026575892907388717 0.027536782562211384 0.02819007225689269 0.02851992590580566 0.028548987573138385 0.02855118786775873 0.02859133794175306 0.02866952958664247 0.028786067186445635 0.028901318766474268 0.02783284828924481 0.024756916047909413 0.0193154710721298 0.01117736525675578 3.356650934999844e-7; 25000.0 24984.632541060462 24970.881839613583 24958.747895659377 24948.23989531996 24939.34865247321 24930.928184708824 24920.532785240284 24908.085244097274 24893.585561279793 24877.022076891975 24858.75535217559 24840.30220274434 24821.849201129306 24803.39634649537 24784.94363884253 24766.491060043612 24748.038411917976 24729.585640368456 24711.132744693776 24692.67972559521 24674.226584877702 24655.77341210824 24637.32025793185 24618.867122348536 24600.41400546394 24581.961106182593 24563.86700102993 24546.573492690382 24530.078590956604 24514.382295828604 24499.489144843894 24485.56691019678 24473.04928193825 24461.967415320953 24452.313198697204 24444.086632067003 24436.997110152075 24429.44855483772 24421.20231036713 24412.254412597373 24402.608825671377 24392.29690862141 24381.76949772719 24371.176112157882 24360.51675191349 24349.7910421379 24339.006195233796 24328.749496995453 24319.426217449713 24311.031083044636 24303.564093780224 24297.030523208414 24290.94783325706 24284.61529106876 24278.0232723063 24271.173242939014 24264.065202966918 24256.674348277764 24248.93153919895 24240.831868660556 24232.37330904064 24223.557887961128 24214.375108101714 24204.752563667695 24194.67967431438 24184.15644004178 24173.180302071953 24161.727230709024 24149.296820023468 24135.68357064132 24120.894165267055 24104.928603900702 24087.784163347693 24070.14720094092 24052.575079571965 24035.068478750138 24017.627028302853 24000.250728230112 23983.393791754894 23967.855865763748 23953.6530911183 23940.793053905745 23929.26816803888 23918.7641482332 23908.13314760536 23897.266341684295 23886.163730470005 23874.823974159684 23863.265555111087 23851.627841168152 23839.94262164331 23828.210164929675 23816.430471027255 23804.573801298237 23791.833266878217 23777.8288471427 23762.553360925114 23746.01398939202 23728.21073254343]"
     ]
    }
   ],
   "source": [
    "xc=[]\n",
    "_sol = history.subproblems[end].sol\n",
    "\n",
    "tf = _sol.p[1]\n",
    "xd = _sol.xd\n",
    "ud = _sol.ud\n",
    "vd = _sol.vd\n",
    "p_sol = _sol.p\n",
    "td = sol.td*tf\n",
    "\n",
    "Nc = 100\n",
    "tc = LinRange(0, tf, Nc)\n",
    "xc = hcat([sample(sol.xc, t) for t in LinRange(0, 1, Nc)]...)\n",
    "uc = hcat([sample(sol.uc, t) for t in LinRange(0, 1, Nc)]...)\n",
    "# tf=hcat([sample(_sol.p[1], t) for t in LinRange(0, 1, Nc)]...)\n",
    "tf_values = [spbm.sol.p[1] for spbm in history.subproblems]\n",
    "pushfirst!(tf_values, history.subproblems[1].ref.p[1]);\n",
    "print(xc)"
   ]
  },
  {
   "cell_type": "code",
   "execution_count": 184,
   "metadata": {},
   "outputs": [
    {
     "name": "stdout",
     "output_type": "stream",
     "text": [
      "[21.438434720270898, 69.80929573821541, -2.4390319390163095, 1.0405485290183452, 0.04841822155293783, 0.002990520521118622, 23744.13873660383]"
     ]
    }
   ],
   "source": [
    "x0=xc[:,1]\n",
    "xplus=[]\n",
    "dt=0.8286256886085988\n",
    "N=4940\n",
    "xc_tmp=zeros(7,N)\n",
    "# print(tc)\n",
    "# print(p_sol)\n",
    "# print(tf_values)\n",
    "for i=1:N\n",
    "    # xplus=x0+f(x0,uc[1:2,round(Int,i/100)+1],p_sol)*dt/100\n",
    "    xplus=x0+f_rocket(x0,uc[1:2,round(Int,i/50)+1])*dt/50\n",
    "x0=xplus\n",
    "xc_tmp[1:7,i]=xplus\n",
    "end\n",
    "#xc=xc_tmp\n",
    "# print(round(Int,0.46))\n",
    "print(xplus)"
   ]
  },
  {
   "cell_type": "code",
   "execution_count": 185,
   "metadata": {},
   "outputs": [
    {
     "ename": "ArgumentError",
     "evalue": "ArgumentError: Package CSV not found in current path.\n- Run `import Pkg; Pkg.add(\"CSV\")` to install the CSV package.",
     "output_type": "error",
     "traceback": [
      "ArgumentError: Package CSV not found in current path.\n",
      "- Run `import Pkg; Pkg.add(\"CSV\")` to install the CSV package.\n",
      "\n",
      "Stacktrace:\n",
      "  [1] macro expansion\n",
      "    @ ./loading.jl:1630 [inlined]\n",
      "  [2] macro expansion\n",
      "    @ ./lock.jl:267 [inlined]\n",
      "  [3] require(into::Module, mod::Symbol)\n",
      "    @ Base ./loading.jl:1611\n",
      "  [4] eval\n",
      "    @ ./boot.jl:370 [inlined]\n",
      "  [5] include_string(mapexpr::typeof(REPL.softscope), mod::Module, code::String, filename::String)\n",
      "    @ Base ./loading.jl:1903\n",
      "  [6] #invokelatest#2\n",
      "    @ ./essentials.jl:819 [inlined]\n",
      "  [7] invokelatest\n",
      "    @ ./essentials.jl:816 [inlined]\n",
      "  [8] (::VSCodeServer.var\"#202#203\"{VSCodeServer.NotebookRunCellArguments, String})()\n",
      "    @ VSCodeServer ~/.vscode/extensions/julialang.language-julia-1.60.2/scripts/packages/VSCodeServer/src/serve_notebook.jl:19\n",
      "  [9] withpath(f::VSCodeServer.var\"#202#203\"{VSCodeServer.NotebookRunCellArguments, String}, path::String)\n",
      "    @ VSCodeServer ~/.vscode/extensions/julialang.language-julia-1.60.2/scripts/packages/VSCodeServer/src/repl.jl:274\n",
      " [10] notebook_runcell_request(conn::VSCodeServer.JSONRPC.JSONRPCEndpoint{Base.PipeEndpoint, Base.PipeEndpoint}, params::VSCodeServer.NotebookRunCellArguments)\n",
      "    @ VSCodeServer ~/.vscode/extensions/julialang.language-julia-1.60.2/scripts/packages/VSCodeServer/src/serve_notebook.jl:13\n",
      " [11] dispatch_msg(x::VSCodeServer.JSONRPC.JSONRPCEndpoint{Base.PipeEndpoint, Base.PipeEndpoint}, dispatcher::VSCodeServer.JSONRPC.MsgDispatcher, msg::Dict{String, Any})\n",
      "    @ VSCodeServer.JSONRPC ~/.vscode/extensions/julialang.language-julia-1.60.2/scripts/packages/JSONRPC/src/typed.jl:67\n",
      " [12] serve_notebook(pipename::String, outputchannel_logger::Base.CoreLogging.SimpleLogger; crashreporting_pipename::String)\n",
      "    @ VSCodeServer ~/.vscode/extensions/julialang.language-julia-1.60.2/scripts/packages/VSCodeServer/src/serve_notebook.jl:139\n",
      " [13] top-level scope\n",
      "    @ ~/.vscode/extensions/julialang.language-julia-1.60.2/scripts/notebook/notebook.jl:32"
     ]
    }
   ],
   "source": [
    "using CSV, DataFrames\n"
   ]
  },
  {
   "cell_type": "code",
   "execution_count": 186,
   "metadata": {},
   "outputs": [
    {
     "data": {
      "text/plain": [
       "1600"
      ]
     },
     "metadata": {},
     "output_type": "display_data"
    }
   ],
   "source": [
    "using Serialization\n",
    "# Serialize the data to a file\n",
    "serialize(\"tc_data.bin\", tc)\n",
    "serialize(\"xc_data.bin\", xc)\n",
    "serialize(\"uc_data.bin\", uc)"
   ]
  },
  {
   "cell_type": "code",
   "execution_count": 187,
   "metadata": {},
   "outputs": [
    {
     "data": {
      "text/plain": [
       "2×100 Matrix{Float64}:\n",
       " 70146.3     63124.0       56101.6       …  74447.2        79936.9\n",
       "    -0.1688     -0.139761     -0.110722         0.0308264      0.0383319"
      ]
     },
     "metadata": {},
     "output_type": "display_data"
    }
   ],
   "source": [
    "# Deserialize the data from the files\n",
    "tc = deserialize(\"tc_data.bin\")\n",
    "xc = deserialize(\"xc_data.bin\")\n",
    "uc = deserialize(\"uc_data.bin\")"
   ]
  },
  {
   "cell_type": "code",
   "execution_count": 188,
   "metadata": {},
   "outputs": [
    {
     "name": "stderr",
     "output_type": "stream",
     "text": [
      "WARNING: using Plots.plot in module Main conflicts with an existing identifier.\n",
      "WARNING: using Plots.wrap in module Main conflicts with an existing identifier.\n"
     ]
    }
   ],
   "source": [
    "using Plots\n",
    "\n"
   ]
  },
  {
   "cell_type": "code",
   "execution_count": 189,
   "metadata": {},
   "outputs": [
    {
     "ename": "PyCall.PyError",
     "evalue": "PyError ($(Expr(:escape, :(ccall(#= /Users/vrushabh/.julia/packages/PyCall/KLzIO/src/pyfncall.jl:43 =# @pysym(:PyObject_Call), PyPtr, (PyPtr, PyPtr, PyPtr), o, pyargsptr, kw))))) <class 'ValueError'>\nValueError('x and y must have same first dimension, but have shapes (100,) and (7, 100)')\n  File \"/Users/vrushabh/.julia/conda/3/x86_64/lib/python3.10/site-packages/matplotlib/pyplot.py\", line 3578, in plot\n    return gca().plot(\n  File \"/Users/vrushabh/.julia/conda/3/x86_64/lib/python3.10/site-packages/matplotlib/axes/_axes.py\", line 1721, in plot\n    lines = [*self._get_lines(self, *args, data=data, **kwargs)]\n  File \"/Users/vrushabh/.julia/conda/3/x86_64/lib/python3.10/site-packages/matplotlib/axes/_base.py\", line 303, in __call__\n    yield from self._plot_args(\n  File \"/Users/vrushabh/.julia/conda/3/x86_64/lib/python3.10/site-packages/matplotlib/axes/_base.py\", line 499, in _plot_args\n    raise ValueError(f\"x and y must have same first dimension, but \"\n",
     "output_type": "error",
     "traceback": [
      "PyError ($(Expr(:escape, :(ccall(#= /Users/vrushabh/.julia/packages/PyCall/KLzIO/src/pyfncall.jl:43 =# @pysym(:PyObject_Call), PyPtr, (PyPtr, PyPtr, PyPtr), o, pyargsptr, kw))))) <class 'ValueError'>\n",
      "ValueError('x and y must have same first dimension, but have shapes (100,) and (7, 100)')\n",
      "  File \"/Users/vrushabh/.julia/conda/3/x86_64/lib/python3.10/site-packages/matplotlib/pyplot.py\", line 3578, in plot\n",
      "    return gca().plot(\n",
      "  File \"/Users/vrushabh/.julia/conda/3/x86_64/lib/python3.10/site-packages/matplotlib/axes/_axes.py\", line 1721, in plot\n",
      "    lines = [*self._get_lines(self, *args, data=data, **kwargs)]\n",
      "  File \"/Users/vrushabh/.julia/conda/3/x86_64/lib/python3.10/site-packages/matplotlib/axes/_base.py\", line 303, in __call__\n",
      "    yield from self._plot_args(\n",
      "  File \"/Users/vrushabh/.julia/conda/3/x86_64/lib/python3.10/site-packages/matplotlib/axes/_base.py\", line 499, in _plot_args\n",
      "    raise ValueError(f\"x and y must have same first dimension, but \"\n",
      "\n",
      "\n",
      "Stacktrace:\n",
      "  [1] pyerr_check\n",
      "    @ ~/.julia/packages/PyCall/KLzIO/src/exception.jl:75 [inlined]\n",
      "  [2] pyerr_check\n",
      "    @ ~/.julia/packages/PyCall/KLzIO/src/exception.jl:79 [inlined]\n",
      "  [3] _handle_error(msg::String)\n",
      "    @ PyCall ~/.julia/packages/PyCall/KLzIO/src/exception.jl:96\n",
      "  [4] macro expansion\n",
      "    @ ~/.julia/packages/PyCall/KLzIO/src/exception.jl:110 [inlined]\n",
      "  [5] #107\n",
      "    @ ~/.julia/packages/PyCall/KLzIO/src/pyfncall.jl:43 [inlined]\n",
      "  [6] disable_sigint\n",
      "    @ ./c.jl:473 [inlined]\n",
      "  [7] __pycall!\n",
      "    @ ~/.julia/packages/PyCall/KLzIO/src/pyfncall.jl:42 [inlined]\n",
      "  [8] _pycall!(ret::PyObject, o::PyObject, args::Tuple{LinRange{Float64, Int64}, Matrix{Float64}}, nargs::Int64, kw::PyObject)\n",
      "    @ PyCall ~/.julia/packages/PyCall/KLzIO/src/pyfncall.jl:29\n",
      "  [9] _pycall!(ret::PyObject, o::PyObject, args::Tuple{LinRange{Float64, Int64}, Matrix{Float64}}, kwargs::Base.Pairs{Symbol, String, Tuple{Symbol, Symbol, Symbol}, NamedTuple{(:title, :xlabel, :ylabel), Tuple{String, String, String}}})\n",
      "    @ PyCall ~/.julia/packages/PyCall/KLzIO/src/pyfncall.jl:11\n",
      " [10] pycall(::PyObject, ::Type{PyAny}, ::LinRange{Float64, Int64}, ::Vararg{Any}; kwargs::Base.Pairs{Symbol, String, Tuple{Symbol, Symbol, Symbol}, NamedTuple{(:title, :xlabel, :ylabel), Tuple{String, String, String}}})\n",
      "    @ PyCall ~/.julia/packages/PyCall/KLzIO/src/pyfncall.jl:83\n",
      " [11] plot(::LinRange{Float64, Int64}, ::Vararg{Any}; kws::Base.Pairs{Symbol, String, Tuple{Symbol, Symbol, Symbol}, NamedTuple{(:title, :xlabel, :ylabel), Tuple{String, String, String}}})\n",
      "    @ PyPlot ~/.julia/packages/PyPlot/2MlrT/src/PyPlot.jl:194\n",
      " [12] top-level scope\n",
      "    @ ~/Downloads/tmp/SCPToolbox_tutorial/src/p4_rocket.ipynb:2"
     ]
    }
   ],
   "source": [
    "# Plot xc vs tc\n",
    "plot(tc, xc, title=\"xc vs tc\", xlabel=\"tc\", ylabel=\"xc\")\n",
    "\n",
    "# Plot uc vs tc\n",
    "plot(tc, uc, title=\"uc vs tc\", xlabel=\"tc\", ylabel=\"uc\")"
   ]
  },
  {
   "cell_type": "code",
   "execution_count": 190,
   "metadata": {},
   "outputs": [
    {
     "ename": "UndefVarError",
     "evalue": "UndefVarError: `CSV` not defined",
     "output_type": "error",
     "traceback": [
      "UndefVarError: `CSV` not defined\n",
      "\n",
      "Stacktrace:\n",
      " [1] top-level scope\n",
      "   @ ~/Downloads/tmp/SCPToolbox_tutorial/src/p4_rocket.ipynb:2"
     ]
    }
   ],
   "source": [
    "# Save to CSV files\n",
    "CSV.write(\"tc.csv\", DataFrame(tc=tc))\n",
    "CSV.write(\"xc.csv\", DataFrame(xc=xc))\n",
    "CSV.write(\"uc.csv\", DataFrame(uc=uc))"
   ]
  },
  {
   "cell_type": "code",
   "execution_count": 191,
   "metadata": {},
   "outputs": [
    {
     "ename": "UndefVarError",
     "evalue": "UndefVarError: `CSV` not defined",
     "output_type": "error",
     "traceback": [
      "UndefVarError: `CSV` not defined\n",
      "\n",
      "Stacktrace:\n",
      " [1] top-level scope\n",
      "   @ ~/Downloads/tmp/SCPToolbox_tutorial/src/p4_rocket.ipynb:2"
     ]
    }
   ],
   "source": [
    "# Load from CSV files\n",
    "tc = CSV.read(\"tc.csv\", DataFrame)[\"tc\"]\n",
    "xc = CSV.read(\"xc.csv\", DataFrame)[\"xc\"]\n",
    "uc = CSV.read(\"uc.csv\", DataFrame)[\"uc\"]"
   ]
  },
  {
   "cell_type": "code",
   "execution_count": 192,
   "id": "0d3a5d7d-1b63-4833-97ab-c6dcf5ac02a8",
   "metadata": {},
   "outputs": [],
   "source": [
    "include(\"utils/p4_rocket_graphics.jl\");"
   ]
  },
  {
   "cell_type": "code",
   "execution_count": 193,
   "id": "80e16c85-98ba-44ca-ac93-713051873030",
   "metadata": {},
   "outputs": [
    {
     "ename": "BoundsError",
     "evalue": "BoundsError: attempt to access 2×20 Matrix{Float64} at index [1, 21]",
     "output_type": "error",
     "traceback": [
      "BoundsError: attempt to access 2×20 Matrix{Float64} at index [1, 21]\n",
      "\n",
      "Stacktrace:\n",
      " [1] getindex(::Matrix{Float64}, ::Int64, ::Int64)\n",
      "   @ Base ./essentials.jl:14\n",
      " [2] visualize_trajectory()\n",
      "   @ Main ~/Downloads/tmp/SCPToolbox_tutorial/src/utils/p4_rocket_graphics.jl:119\n",
      " [3] top-level scope\n",
      "   @ ~/Downloads/tmp/SCPToolbox_tutorial/src/p4_rocket.ipynb:1"
     ]
    }
   ],
   "source": [
    "visualize_trajectory();"
   ]
  },
  {
   "cell_type": "code",
   "execution_count": 194,
   "id": "d65d56bd-cce9-4701-9e46-107d8156ac3e",
   "metadata": {},
   "outputs": [
    {
     "ename": "BoundsError",
     "evalue": "BoundsError: attempt to access 2×20 Matrix{Float64} at index [1, 21]",
     "output_type": "error",
     "traceback": [
      "BoundsError: attempt to access 2×20 Matrix{Float64} at index [1, 21]\n",
      "\n",
      "Stacktrace:\n",
      " [1] getindex(::Matrix{Float64}, ::Int64, ::Int64)\n",
      "   @ Base ./essentials.jl:14\n",
      " [2] top-level scope\n",
      "   @ ~/Downloads/tmp/SCPToolbox_tutorial/src/p4_rocket.ipynb:22"
     ]
    }
   ],
   "source": [
    "# function plot_trajectory() \n",
    "\n",
    "    fig = plt.figure(figsize=(9, 6))\n",
    "\n",
    "    ctres, overlap = Nc, 3\n",
    "\n",
    "    # speed\n",
    "    vct = [norm(xc[3:4, i], 2) for i=1:size(xc[3:4, :])[2]]\n",
    "\n",
    "    cmap = generate_colormap(\"viridis\"; minval=minimum(vct), maxval=maximum(vct))\n",
    "\n",
    "    ax = setup_axis!(111, xlabel=\"Downrange [m]\", ylabel=\"Altitude [m]\",\n",
    "                     axis=\"equal\", cbar=cmap, clabel=\"Speed [m/s]\",\n",
    "                     cbar_aspect=40)\n",
    "\n",
    "    ax.grid(color=\"0.9\")\n",
    "\n",
    "    # Thrust vector profile (inertial frame)\n",
    "    ux = []\n",
    "    uy = []\n",
    "    for i in 1:N\n",
    "        append!(ux, -ud[1, i].*sin(xd[5, i] + ud[2, i]))\n",
    "        append!(uy,  ud[1, i].*cos(xd[5, i] + ud[2, i]))\n",
    "    end\n",
    "\n",
    "    for i in 1:N\n",
    "    #     ax.plot(xd[1, i], xd[2, i], linewidth=0, color=\"darkslategrey\", marker=(4, 0, 45+rad2deg(xd[5, i])), ms=5, markerfacecolor=\"goldenrod\", alpha=1, markeredgewidth=1, zorder=100)\n",
    "        ax.quiver(xd[1, i], xd[2, i], sin(xd[5, i]), -cos(xd[5, i]), color=\"darkslategrey\", pivot=\"middle\", headaxislength=0, headlength=0, antialiased=\"True\", width=0.015, scale=22.5, joinstyle=\"round\", zorder=100)\n",
    "        ax.quiver(xd[1, i], xd[2, i], -ux[i], -uy[i], color=\"tomato\", pivot=\"tail\", headaxislength=0, headlength=0, antialiased=\"True\", width=0.0035, scale=11.5*T_max, zorder=20)\n",
    "    end\n",
    "\n",
    "    ax.plot(xd[1, :], xd[2, :], linewidth=0, color=\"k\", marker=\"o\", ms=5, markerfacecolor=\"goldenrod\", alpha=1, markeredgewidth=0.625, zorder=100000, label=\"Guidance solution\")\n",
    "    # ax.plot(xc[1, :], xc[2, :], linewidth=1, color=\"mediumseagreen\", label=\"Continuous-time dynamics\", alpha=0.75, zorder=1000)\n",
    "\n",
    "    span_gs = max(100, 2.25*abs(x_0[1]))\n",
    "    x_cone = [-span_gs; 0; span_gs]\n",
    "    ax.plot(x_cone, tan(γ_gs).*abs.(x_cone), linewidth=1.5, linestyle=\"dashed\", color=\"slategrey\", alpha=0.75, dash_capstyle=\"round\", label=\"Glide-slope\")\n",
    "\n",
    "    line_segs = Vector{Matrix}(undef, 0)\n",
    "    line_clrs = Vector{NTuple{4, Real}}(undef, 0)\n",
    "    for k=1:ctres-overlap\n",
    "        push!(line_segs, xc[1:2, k:k+overlap]')\n",
    "        push!(line_clrs, cmap.to_rgba(vct[k]))\n",
    "    end\n",
    "    trajectory = PyPlot.matplotlib.collections.LineCollection(\n",
    "        line_segs, zorder=1000, colors = line_clrs, linewidths=2,\n",
    "        capstyle=\"round\")\n",
    "    ax.add_collection(trajectory)\n",
    "\n",
    "    plt.title(\"\\\\textbf{Rocket-landing trajectory}\", fontsize=13, pad=12.5)\n",
    "    ax.legend(loc=2)\n",
    "\n",
    "    fig.savefig(\"traj.png\", format=\"png\", bbox_inches = \"tight\")\n",
    "    ;\n",
    "    \n",
    "# end\n",
    "\n",
    "# plot_trajectory();"
   ]
  },
  {
   "cell_type": "code",
   "execution_count": 195,
   "id": "df6a31be-3fe0-4cb3-85e2-516886b0df17",
   "metadata": {},
   "outputs": [
    {
     "ename": "BoundsError",
     "evalue": "BoundsError: attempt to access 7×20 Matrix{Float64} at index [5, 21]",
     "output_type": "error",
     "traceback": [
      "BoundsError: attempt to access 7×20 Matrix{Float64} at index [5, 21]\n",
      "\n",
      "Stacktrace:\n",
      " [1] getindex(::Matrix{Float64}, ::Int64, ::Int64)\n",
      "   @ Base ./essentials.jl:14\n",
      " [2] (::var\"#171#172\")(i::Int64)\n",
      "   @ Main ./none:0\n",
      " [3] iterate\n",
      "   @ ./generator.jl:47 [inlined]\n",
      " [4] collect_to!(dest::Vector{Float64}, itr::Base.Generator{UnitRange{Int64}, var\"#171#172\"}, offs::Int64, st::Int64)\n",
      "   @ Base ./array.jl:840\n",
      " [5] collect_to_with_first!(dest::Vector{Float64}, v1::Float64, itr::Base.Generator{UnitRange{Int64}, var\"#171#172\"}, st::Int64)\n",
      "   @ Base ./array.jl:818\n",
      " [6] collect(itr::Base.Generator{UnitRange{Int64}, var\"#171#172\"})\n",
      "   @ Base ./array.jl:792\n",
      " [7] top-level scope\n",
      "   @ ~/Downloads/tmp/SCPToolbox_tutorial/src/p4_rocket.ipynb:20"
     ]
    }
   ],
   "source": [
    "# function plot_states()\n",
    "    \n",
    "    fig, axs = plt.subplots(3, 2, sharex=\"col\", figsize=(12, 8))\n",
    "\n",
    "    line1 = axs[1, 1].plot(tc, xc[1, :], linewidth=1.5, color=\"darkslategrey\", label=\"Propagated\")\n",
    "    line2 = axs[1, 1].plot(td, xd[1, :], linewidth=0, color=\"k\", marker=\"o\", ms=5, markerfacecolor=\"mediumspringgreen\", alpha=0.75, label=\"Guidance\", clip_on=false, zorder=1e8)\n",
    "    axs[1, 1].set_ylabel(\"Downrange [m]\", fontsize=12)\n",
    "    axs[1, 1].tick_params(bottom=false)\n",
    "    axs[1, 1].grid(color=\"0.9\")\n",
    "    # axs[1, 1].legend(fontsize=8)\n",
    "\n",
    "    line1 = axs[2, 1].plot(tc, xc[2, :], linewidth=1.5, color=\"darkslategrey\", label=\"Propagated\")\n",
    "    line2 = axs[2, 1].plot(td, xd[2, :], linewidth=0, color=\"k\", marker=\"o\", ms=5, markerfacecolor=\"orangered\", alpha=0.75, label=\"Guidance\", clip_on=false, zorder=1e8)\n",
    "    axs[2, 1].set_ylabel(\"Altitude [m]\", fontsize=12)\n",
    "    axs[2, 1].tick_params(bottom=false)\n",
    "    axs[2, 1].grid(color=\"0.9\")\n",
    "    # axs[2, 1].legend(fontsize=8)\n",
    "\n",
    "    line1 = axs[3, 1].plot(tc, [rad2deg(xc[5, i]) for i in 1:Nc], linewidth=1.5, color=\"darkslategrey\", label=\"Propagated\")\n",
    "    line2 = axs[3, 1].plot(td, [rad2deg(xd[5, i]) for i in 1:N], linewidth=0, color=\"k\", marker=\"o\", ms=5, markerfacecolor=\"dodgerblue\", alpha=0.75, label=\"Guidance\", clip_on=false, zorder=1e8)\n",
    "    axs[3, 1].set_ylabel(\"Pitch [\\$^\\\\circ\\$]\", fontsize=12)\n",
    "    axs[3, 1].grid(color=\"0.9\")\n",
    "    # plt.legend(fontsize=8)\n",
    "\n",
    "    line1 = axs[1, 2].plot(tc, xc[3, :], linewidth=1.5, color=\"darkslategrey\", label=\"Propagated\")\n",
    "    line2 = axs[1, 2].plot(td, xd[3, :], linewidth=0, color=\"k\", marker=\"o\", ms=5, markerfacecolor=\"mediumspringgreen\", alpha=0.75, label=\"Guidance\", clip_on=false, zorder=1e8)\n",
    "    axs[1, 2].set_ylabel(\"Longitudinal velocity [m/s]\", fontsize=12)\n",
    "    axs[1, 2].tick_params(bottom=false)\n",
    "    axs[1, 2].grid(color=\"0.9\")\n",
    "    # axs[1, 2].legend(fontsize=8)\n",
    "\n",
    "    line1 = axs[2, 2].plot(tc, xc[4, :], linewidth=1.5, color=\"darkslategrey\", label=\"Propagated\")\n",
    "    line2 = axs[2, 2].plot(td, xd[4, :], linewidth=0, color=\"k\", marker=\"o\", ms=5, markerfacecolor=\"orangered\", alpha=0.75, label=\"Guidance\", clip_on=false, zorder=1e8)\n",
    "    axs[2, 2].set_ylabel(\"Rate-of-descent [m/s]\", fontsize=12)\n",
    "    axs[2, 2].tick_params(bottom=false)\n",
    "    axs[2, 2].grid(color=\"0.9\")\n",
    "    # axs[2, 2].legend(fontsize=8)\n",
    "\n",
    "    line1 = axs[3, 2].plot(tc, [rad2deg(xc[6, i]) for i in 1:Nc], linewidth=1.5, color=\"darkslategrey\", label=\"Propagated\")\n",
    "    line2 = axs[3, 2].plot(td, [rad2deg(xd[6, i]) for i in 1:N], linewidth=0, color=\"k\", marker=\"o\", ms=5, markerfacecolor=\"dodgerblue\", alpha=0.75, label=\"Guidance\", clip_on=false, zorder=1e8)\n",
    "    axs[3, 2].set_ylabel(\"Pitch rate [\\$^\\\\circ\\$/s]\", fontsize=12)\n",
    "    axs[3, 2].grid(color=\"0.9\")\n",
    "    # plt.legend(fontsize=8)\n",
    "\n",
    "    # handles, labels = axs[2, 1].get_legend_handles_labels()\n",
    "    # fig.legend(handles, labels, loc=\"upper center\")\n",
    "\n",
    "    legend_elements = [PyPlot.matplotlib.lines.Line2D([0], [0], linewidth=0, color=\"k\", marker=\"o\", ms=5, markerfacecolor=\"white\", alpha=0.75, label=\"Guidance\", clip_on=false, zorder=1e8),\n",
    "                       PyPlot.matplotlib.lines.Line2D([0], [0], color=\"darkslategrey\", linewidth=1.5, label=\"Propagated\"),]\n",
    "\n",
    "    fig.legend(handles=legend_elements, ncol=2, loc=\"lower right\", bbox_to_anchor=(0, 0.9075, 0.9075, 0), fontsize=\"12\", mode=\"normal\")\n",
    "\n",
    "    # fig.legend(handles=legend_elements, loc=\"upper center\")\n",
    "\n",
    "    axs[3, 1].set_xlabel(\"Time [s]\", fontsize=12)\n",
    "    axs[3, 2].set_xlabel(\"Time [s]\", fontsize=12)\n",
    "    fig.savefig(\"states.pdf\", format=\"pdf\", bbox_inches = \"tight\")\n",
    "\n",
    "    ;\n",
    "    \n",
    "# end\n",
    "# plot_states();"
   ]
  },
  {
   "cell_type": "code",
   "execution_count": 196,
   "id": "f07fbcd7-cd6d-4cd1-bec9-64726af55490",
   "metadata": {},
   "outputs": [],
   "source": [
    "plot_mass();"
   ]
  },
  {
   "cell_type": "code",
   "execution_count": 197,
   "id": "906e8e65-e4a1-45c6-b57e-e2043c75cb5d",
   "metadata": {},
   "outputs": [
    {
     "ename": "BoundsError",
     "evalue": "BoundsError: attempt to access 2×20 Matrix{Float64} at index [2, 21]",
     "output_type": "error",
     "traceback": [
      "BoundsError: attempt to access 2×20 Matrix{Float64} at index [2, 21]\n",
      "\n",
      "Stacktrace:\n",
      " [1] getindex(::Matrix{Float64}, ::Int64, ::Int64)\n",
      "   @ Base ./essentials.jl:14\n",
      " [2] (::var\"#173#174\")(i::Int64)\n",
      "   @ Main ./none:0\n",
      " [3] iterate\n",
      "   @ ./generator.jl:47 [inlined]\n",
      " [4] collect_to!(dest::Vector{Float64}, itr::Base.Generator{UnitRange{Int64}, var\"#173#174\"}, offs::Int64, st::Int64)\n",
      "   @ Base ./array.jl:840\n",
      " [5] collect_to_with_first!(dest::Vector{Float64}, v1::Float64, itr::Base.Generator{UnitRange{Int64}, var\"#173#174\"}, st::Int64)\n",
      "   @ Base ./array.jl:818\n",
      " [6] collect(itr::Base.Generator{UnitRange{Int64}, var\"#173#174\"})\n",
      "   @ Base ./array.jl:792\n",
      " [7] top-level scope\n",
      "   @ ~/Downloads/tmp/SCPToolbox_tutorial/src/p4_rocket.ipynb:30"
     ]
    }
   ],
   "source": [
    "# function plot_controls()\n",
    "    \n",
    "    #########################\n",
    "    ### Thrust magnitude ####\n",
    "    #########################\n",
    "    \n",
    "    fig = plt.figure(figsize=(6, 3))\n",
    "    ax = fig.add_subplot(111)\n",
    "\n",
    "    ax.grid(color=\"0.9\")\n",
    "\n",
    "    ax.plot(td, ud[1, :]/1e3, linewidth=1.5, color=\"darkslategrey\", marker=\"o\", ms=5, markeredgecolor=\"k\", markerfacecolor=\"goldenrod\", alpha=1, clip_on=false, zorder=1e8)\n",
    "    ax.axhline(y=T_min/1e3, color=\"steelblue\", linewidth=1.5, linestyle=\"dashed\", dash_capstyle=\"round\", label=\"Throttle limits\")\n",
    "    ax.axhline(y=T_max/1e3, color=\"steelblue\", linewidth=1.5, linestyle=\"dashed\", dash_capstyle=\"round\")\n",
    "\n",
    "    ax.legend(loc=\"best\", bbox_to_anchor=(0.5, 0.05, 0.5, 0.5))\n",
    "\n",
    "    ax.set_xlabel(\"Time [s]\")\n",
    "    ax.set_ylabel(\"Thrust magnitude [kN]\");\n",
    "    \n",
    "    #####################\n",
    "    ### Gimbal angle ####\n",
    "    #####################\n",
    "    \n",
    "    fig = plt.figure(figsize=(6, 3))\n",
    "    ax = fig.add_subplot(111)\n",
    "\n",
    "    ax.grid(color=\"0.9\")\n",
    "\n",
    "    ax.plot(td, [rad2deg(ud[2, i]) for i in 1:N], linewidth=1.5, color=\"darkslategrey\", marker=\"o\", ms=5, markeredgecolor=\"k\", markerfacecolor=\"mediumspringgreen\", alpha=1, clip_on=false, zorder=1e8)\n",
    "    ax.axhline(y=rad2deg(δ_max), color=\"tomato\", linewidth=1.5, linestyle=\"dashed\", dash_capstyle=\"round\", label=\"Gimbal limits\")\n",
    "    ax.axhline(y=-rad2deg(δ_max), color=\"tomato\", linewidth=1.5, linestyle=\"dashed\", dash_capstyle=\"round\")\n",
    "\n",
    "    ax.legend(loc=\"best\", bbox_to_anchor=(0.5, 0.05, 0.5, 0.5))\n",
    "\n",
    "    ax.set_xlabel(\"Time [s]\")\n",
    "    ax.set_ylabel(\"Gimbal angle [\\$^\\\\circ\\$]\")\n",
    "    fig.savefig(\"controls.pdf\", format=\"pdf\", bbox_inches = \"tight\")\n",
    "\n",
    "    ;\n",
    "    \n",
    "# end\n",
    "# plot_controls();"
   ]
  },
  {
   "cell_type": "code",
   "execution_count": 198,
   "id": "19e88202-caa2-4604-aec5-c98fc4e338e1",
   "metadata": {},
   "outputs": [],
   "source": [
    "plot_ToF();"
   ]
  }
 ],
 "metadata": {
  "kernelspec": {
   "display_name": "Julia 1.9.3",
   "language": "julia",
   "name": "julia-1.9"
  },
  "language_info": {
   "file_extension": ".jl",
   "mimetype": "application/julia",
   "name": "julia",
   "version": "1.9.3"
  }
 },
 "nbformat": 4,
 "nbformat_minor": 5
}
